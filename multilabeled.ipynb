{
  "nbformat": 4,
  "nbformat_minor": 0,
  "metadata": {
    "colab": {
      "provenance": [],
      "authorship_tag": "ABX9TyORLGNUrRlQThHTT4zw6F4v",
      "include_colab_link": true
    },
    "kernelspec": {
      "name": "python3",
      "display_name": "Python 3"
    },
    "language_info": {
      "name": "python"
    }
  },
  "cells": [
    {
      "cell_type": "markdown",
      "metadata": {
        "id": "view-in-github",
        "colab_type": "text"
      },
      "source": [
        "<a href=\"https://colab.research.google.com/github/tolgagonen/multilabeled-turkish-textclassification-tensorflow/blob/main/multilabeled.ipynb\" target=\"_parent\"><img src=\"https://colab.research.google.com/assets/colab-badge.svg\" alt=\"Open In Colab\"/></a>"
      ]
    },
    {
      "cell_type": "code",
      "execution_count": 51,
      "metadata": {
        "colab": {
          "base_uri": "https://localhost:8080/"
        },
        "id": "x6XBJacOmL_Q",
        "outputId": "2c6a10b8-6c94-4563-c9bb-37f612802e41"
      },
      "outputs": [
        {
          "output_type": "stream",
          "name": "stdout",
          "text": [
            "Looking in indexes: https://pypi.org/simple, https://us-python.pkg.dev/colab-wheels/public/simple/\n",
            "Requirement already satisfied: nltk in /usr/local/lib/python3.10/dist-packages (3.8.1)\n",
            "Requirement already satisfied: click in /usr/local/lib/python3.10/dist-packages (from nltk) (8.1.3)\n",
            "Requirement already satisfied: joblib in /usr/local/lib/python3.10/dist-packages (from nltk) (1.2.0)\n",
            "Requirement already satisfied: regex>=2021.8.3 in /usr/local/lib/python3.10/dist-packages (from nltk) (2022.10.31)\n",
            "Requirement already satisfied: tqdm in /usr/local/lib/python3.10/dist-packages (from nltk) (4.65.0)\n"
          ]
        }
      ],
      "source": [
        "pip install nltk"
      ]
    },
    {
      "cell_type": "code",
      "source": [
        "import tensorflow as tf\n",
        "from tensorflow import keras\n",
        "import pandas as pd\n",
        "import numpy as np\n",
        "import os\n",
        "import matplotlib.pyplot as plt\n",
        "import time"
      ],
      "metadata": {
        "id": "alLJp6bXmpXL"
      },
      "execution_count": null,
      "outputs": []
    },
    {
      "cell_type": "code",
      "source": [
        "import sys\n",
        "!pip install -q ftfy\n",
        "sys.setrecursionlimit(10000)\n",
        "import ftfy\n"
      ],
      "metadata": {
        "id": "cahCPpt3QdLL"
      },
      "execution_count": 127,
      "outputs": []
    },
    {
      "cell_type": "code",
      "source": [
        "df = pd.read_csv(\"7allV03.csv\",encoding='UTF-8')\n",
        "#latin-1 kullandığımda saçma sapan bozulmalar olduğu için yukarıda ki kod parçası ile türkçe karakterleri katıp utf-8 kullandım"
      ],
      "metadata": {
        "id": "qN1-ThTDmra4"
      },
      "execution_count": 134,
      "outputs": []
    },
    {
      "cell_type": "code",
      "source": [
        "df.shape"
      ],
      "metadata": {
        "colab": {
          "base_uri": "https://localhost:8080/"
        },
        "id": "dIzwLsBNoIse",
        "outputId": "6c1c575b-abe7-4e89-c377-9b4576788dfa"
      },
      "execution_count": 129,
      "outputs": [
        {
          "output_type": "execute_result",
          "data": {
            "text/plain": [
              "(4900, 2)"
            ]
          },
          "metadata": {},
          "execution_count": 129
        }
      ]
    },
    {
      "cell_type": "code",
      "source": [
        "df.head()"
      ],
      "metadata": {
        "colab": {
          "base_uri": "https://localhost:8080/",
          "height": 206
        },
        "id": "lIV1VUUboKYl",
        "outputId": "cdac3b4f-7e43-4f61-82ae-05cc4db7e581"
      },
      "execution_count": 136,
      "outputs": [
        {
          "output_type": "execute_result",
          "data": {
            "text/plain": [
              "   category                                               text\n",
              "0  siyaset    3 milyon ile ön seçim vaadi mhp nin 10 olağan...\n",
              "1  siyaset    mesut_yılmaz yüce_divan da ceza alabilirdi pr...\n",
              "2  siyaset    disko lar kaldırılıyor başbakan_yardımcısı ar...\n",
              "3  siyaset    sarıgül anayasa_mahkemesi ne gidiyor mustafa_...\n",
              "4  siyaset    erdoğan idamın bir haklılık sebebi var demek ..."
            ],
            "text/html": [
              "\n",
              "  <div id=\"df-7ce1385d-14f7-4305-8419-0e1eeed22a68\">\n",
              "    <div class=\"colab-df-container\">\n",
              "      <div>\n",
              "<style scoped>\n",
              "    .dataframe tbody tr th:only-of-type {\n",
              "        vertical-align: middle;\n",
              "    }\n",
              "\n",
              "    .dataframe tbody tr th {\n",
              "        vertical-align: top;\n",
              "    }\n",
              "\n",
              "    .dataframe thead th {\n",
              "        text-align: right;\n",
              "    }\n",
              "</style>\n",
              "<table border=\"1\" class=\"dataframe\">\n",
              "  <thead>\n",
              "    <tr style=\"text-align: right;\">\n",
              "      <th></th>\n",
              "      <th>category</th>\n",
              "      <th>text</th>\n",
              "    </tr>\n",
              "  </thead>\n",
              "  <tbody>\n",
              "    <tr>\n",
              "      <th>0</th>\n",
              "      <td>siyaset</td>\n",
              "      <td>3 milyon ile ön seçim vaadi mhp nin 10 olağan...</td>\n",
              "    </tr>\n",
              "    <tr>\n",
              "      <th>1</th>\n",
              "      <td>siyaset</td>\n",
              "      <td>mesut_yılmaz yüce_divan da ceza alabilirdi pr...</td>\n",
              "    </tr>\n",
              "    <tr>\n",
              "      <th>2</th>\n",
              "      <td>siyaset</td>\n",
              "      <td>disko lar kaldırılıyor başbakan_yardımcısı ar...</td>\n",
              "    </tr>\n",
              "    <tr>\n",
              "      <th>3</th>\n",
              "      <td>siyaset</td>\n",
              "      <td>sarıgül anayasa_mahkemesi ne gidiyor mustafa_...</td>\n",
              "    </tr>\n",
              "    <tr>\n",
              "      <th>4</th>\n",
              "      <td>siyaset</td>\n",
              "      <td>erdoğan idamın bir haklılık sebebi var demek ...</td>\n",
              "    </tr>\n",
              "  </tbody>\n",
              "</table>\n",
              "</div>\n",
              "      <button class=\"colab-df-convert\" onclick=\"convertToInteractive('df-7ce1385d-14f7-4305-8419-0e1eeed22a68')\"\n",
              "              title=\"Convert this dataframe to an interactive table.\"\n",
              "              style=\"display:none;\">\n",
              "        \n",
              "  <svg xmlns=\"http://www.w3.org/2000/svg\" height=\"24px\"viewBox=\"0 0 24 24\"\n",
              "       width=\"24px\">\n",
              "    <path d=\"M0 0h24v24H0V0z\" fill=\"none\"/>\n",
              "    <path d=\"M18.56 5.44l.94 2.06.94-2.06 2.06-.94-2.06-.94-.94-2.06-.94 2.06-2.06.94zm-11 1L8.5 8.5l.94-2.06 2.06-.94-2.06-.94L8.5 2.5l-.94 2.06-2.06.94zm10 10l.94 2.06.94-2.06 2.06-.94-2.06-.94-.94-2.06-.94 2.06-2.06.94z\"/><path d=\"M17.41 7.96l-1.37-1.37c-.4-.4-.92-.59-1.43-.59-.52 0-1.04.2-1.43.59L10.3 9.45l-7.72 7.72c-.78.78-.78 2.05 0 2.83L4 21.41c.39.39.9.59 1.41.59.51 0 1.02-.2 1.41-.59l7.78-7.78 2.81-2.81c.8-.78.8-2.07 0-2.86zM5.41 20L4 18.59l7.72-7.72 1.47 1.35L5.41 20z\"/>\n",
              "  </svg>\n",
              "      </button>\n",
              "      \n",
              "  <style>\n",
              "    .colab-df-container {\n",
              "      display:flex;\n",
              "      flex-wrap:wrap;\n",
              "      gap: 12px;\n",
              "    }\n",
              "\n",
              "    .colab-df-convert {\n",
              "      background-color: #E8F0FE;\n",
              "      border: none;\n",
              "      border-radius: 50%;\n",
              "      cursor: pointer;\n",
              "      display: none;\n",
              "      fill: #1967D2;\n",
              "      height: 32px;\n",
              "      padding: 0 0 0 0;\n",
              "      width: 32px;\n",
              "    }\n",
              "\n",
              "    .colab-df-convert:hover {\n",
              "      background-color: #E2EBFA;\n",
              "      box-shadow: 0px 1px 2px rgba(60, 64, 67, 0.3), 0px 1px 3px 1px rgba(60, 64, 67, 0.15);\n",
              "      fill: #174EA6;\n",
              "    }\n",
              "\n",
              "    [theme=dark] .colab-df-convert {\n",
              "      background-color: #3B4455;\n",
              "      fill: #D2E3FC;\n",
              "    }\n",
              "\n",
              "    [theme=dark] .colab-df-convert:hover {\n",
              "      background-color: #434B5C;\n",
              "      box-shadow: 0px 1px 3px 1px rgba(0, 0, 0, 0.15);\n",
              "      filter: drop-shadow(0px 1px 2px rgba(0, 0, 0, 0.3));\n",
              "      fill: #FFFFFF;\n",
              "    }\n",
              "  </style>\n",
              "\n",
              "      <script>\n",
              "        const buttonEl =\n",
              "          document.querySelector('#df-7ce1385d-14f7-4305-8419-0e1eeed22a68 button.colab-df-convert');\n",
              "        buttonEl.style.display =\n",
              "          google.colab.kernel.accessAllowed ? 'block' : 'none';\n",
              "\n",
              "        async function convertToInteractive(key) {\n",
              "          const element = document.querySelector('#df-7ce1385d-14f7-4305-8419-0e1eeed22a68');\n",
              "          const dataTable =\n",
              "            await google.colab.kernel.invokeFunction('convertToInteractive',\n",
              "                                                     [key], {});\n",
              "          if (!dataTable) return;\n",
              "\n",
              "          const docLinkHtml = 'Like what you see? Visit the ' +\n",
              "            '<a target=\"_blank\" href=https://colab.research.google.com/notebooks/data_table.ipynb>data table notebook</a>'\n",
              "            + ' to learn more about interactive tables.';\n",
              "          element.innerHTML = '';\n",
              "          dataTable['output_type'] = 'display_data';\n",
              "          await google.colab.output.renderOutput(dataTable, element);\n",
              "          const docLink = document.createElement('div');\n",
              "          docLink.innerHTML = docLinkHtml;\n",
              "          element.appendChild(docLink);\n",
              "        }\n",
              "      </script>\n",
              "    </div>\n",
              "  </div>\n",
              "  "
            ]
          },
          "metadata": {},
          "execution_count": 136
        }
      ]
    },
    {
      "cell_type": "code",
      "source": [
        "print((df.category == \"siyaset \").sum()) # Siyaset ile ilgili cümleler\n",
        "print((df.category == \"ekonomi \").sum()) # Ekonomi ile ilgili cümleler\n",
        "print((df.category == \"kultur \").sum()) # kultur ile ilgili cümleler\n",
        "print((df.category == \"dunya \").sum()) # dunya ile ilgili cümleler\n",
        "print((df.category == \"spor \").sum()) # spor ile ilgili cümleler\n",
        "print((df.category == \"saglik \").sum()) # saglik ile ilgili cümleler\n",
        "print((df.category == \"teknoloji \").sum()) # teknoloji ile ilgili cümleler"
      ],
      "metadata": {
        "colab": {
          "base_uri": "https://localhost:8080/"
        },
        "id": "XWEK5E4GimCA",
        "outputId": "972c2b21-03b5-4bef-f72a-a40cf54e55e4"
      },
      "execution_count": 137,
      "outputs": [
        {
          "output_type": "stream",
          "name": "stdout",
          "text": [
            "700\n",
            "700\n",
            "700\n",
            "700\n",
            "700\n",
            "700\n",
            "700\n"
          ]
        }
      ]
    },
    {
      "cell_type": "code",
      "source": [
        "# Tekrar işleme , burada remove_ULR de linkleri yok ediyoruz\n",
        "#altındaki punct kısmında ise noktaları\n",
        "import re\n",
        "import string\n",
        "\n",
        "def remove_URL(text):\n",
        "    url =re.compile(r\"https?://\\S+|www\\.\\S+\")\n",
        "    return url.sub(r\"\", str(text))\n",
        "\n",
        "def remove_punct(text):\n",
        "    translator = str.maketrans(\"\",\"\", string.punctuation)\n",
        "    return text.translate(translator)\n",
        "\n",
        "string.punctuation"
      ],
      "metadata": {
        "colab": {
          "base_uri": "https://localhost:8080/",
          "height": 36
        },
        "id": "9NEvZronoXSY",
        "outputId": "af73a16b-05ec-46de-8728-2e5e5db6c4e4"
      },
      "execution_count": 138,
      "outputs": [
        {
          "output_type": "execute_result",
          "data": {
            "text/plain": [
              "'!\"#$%&\\'()*+,-./:;<=>?@[\\\\]^_`{|}~'"
            ],
            "application/vnd.google.colaboratory.intrinsic+json": {
              "type": "string"
            }
          },
          "metadata": {},
          "execution_count": 138
        }
      ]
    },
    {
      "cell_type": "code",
      "source": [
        "df[\"text\"] = df.text.map(remove_URL)\n",
        "df[\"text\"] = df.text.map(remove_punct)"
      ],
      "metadata": {
        "id": "Do_wVOvDoalA"
      },
      "execution_count": 139,
      "outputs": []
    },
    {
      "cell_type": "code",
      "source": [
        "#Twitter gibi uygulamalarda genellikle noktalama işaretlerine çok dikkat edilmez\n",
        "#Bu yüzden cümlelerin sonunda stopwords dediğimiz cümleleri bitirme kelimeleri bulunur\n",
        "#Bunlardan burada kurtulmak için hazırlanıyoruz.\n",
        "import nltk\n",
        "nltk.download('stopwords')\n",
        "from nltk.corpus import stopwords\n",
        "#stop words A stop words is a commonly used word (such as \"the\" , \"a\")\n",
        "\n",
        "stop= set(stopwords.words(\"english\"))\n",
        "stop2= set(stopwords.words(\"turkish\"))\n",
        "\n",
        "def remove_stopwords(text):\n",
        "  filtered_words = [word.lower() for word in text.split() if word.lower() not in stop2]\n",
        "  return \" \".join(filtered_words)"
      ],
      "metadata": {
        "colab": {
          "base_uri": "https://localhost:8080/"
        },
        "id": "oRT9nxnHocdi",
        "outputId": "ce1bef28-01f0-4fd6-f28d-54b265b0a34f"
      },
      "execution_count": 140,
      "outputs": [
        {
          "output_type": "stream",
          "name": "stderr",
          "text": [
            "[nltk_data] Downloading package stopwords to /root/nltk_data...\n",
            "[nltk_data]   Package stopwords is already up-to-date!\n"
          ]
        }
      ]
    },
    {
      "cell_type": "code",
      "source": [
        "df[\"text\"] = df.text.map(remove_stopwords)"
      ],
      "metadata": {
        "id": "xtE0oJJgoeHa"
      },
      "execution_count": 141,
      "outputs": []
    },
    {
      "cell_type": "code",
      "source": [
        "df.text"
      ],
      "metadata": {
        "colab": {
          "base_uri": "https://localhost:8080/"
        },
        "id": "EWdJPG36og_4",
        "outputId": "bdb83a42-1518-4cee-f9de-bcc43644c04b"
      },
      "execution_count": 142,
      "outputs": [
        {
          "output_type": "execute_result",
          "data": {
            "text/plain": [
              "0       3 milyon ön seçim vaadi mhp nin 10 olağan büyü...\n",
              "1       mesutyılmaz yücedivan ceza alabilirdi prof dr ...\n",
              "2       disko lar kaldırılıyor başbakanyardımcısı arın...\n",
              "3       sarıgül anayasamahkemesi gidiyor mustafasarıgü...\n",
              "4       erdoğan idamın bir haklılık sebebi var demek y...\n",
              "                              ...                        \n",
              "4895    iphone lara geri dönüyor ios 6 sürümüyle telef...\n",
              "4896    muslukta devrim sadece elimizi yıkadığımız mus...\n",
              "4897    halka iyi anlatılmalı bilgiteknolojileri ileti...\n",
              "4898    çöpe gidiyorlar apple 775 bin uygulamayla apps...\n",
              "4899    google edwardgorey dedi google ünlü illüstratö...\n",
              "Name: text, Length: 4900, dtype: object"
            ]
          },
          "metadata": {},
          "execution_count": 142
        }
      ]
    },
    {
      "cell_type": "code",
      "source": [
        "#Burada tüm farklı kelimeleri sayıyoruz\n",
        "from collections import Counter\n",
        "\n",
        "def counter_word(text_col):\n",
        "  count = Counter()\n",
        "  for text in text_col.values:\n",
        "    for word in text.split():\n",
        "      count[word] += 1\n",
        "  return count\n",
        "\n",
        "counter = counter_word(df.text)"
      ],
      "metadata": {
        "id": "uVRZk7gtojcW"
      },
      "execution_count": 143,
      "outputs": []
    },
    {
      "cell_type": "code",
      "source": [
        "len(counter)"
      ],
      "metadata": {
        "colab": {
          "base_uri": "https://localhost:8080/"
        },
        "id": "5-vp-H_9olAc",
        "outputId": "cd8449f6-171a-4622-9054-60617e0e4f99"
      },
      "execution_count": 144,
      "outputs": [
        {
          "output_type": "execute_result",
          "data": {
            "text/plain": [
              "110898"
            ]
          },
          "metadata": {},
          "execution_count": 144
        }
      ]
    },
    {
      "cell_type": "code",
      "source": [
        "counter.most_common(5) "
      ],
      "metadata": {
        "colab": {
          "base_uri": "https://localhost:8080/"
        },
        "id": "hABZisL_omok",
        "outputId": "0caf1534-2399-4919-dc23-6bb09cf71c84"
      },
      "execution_count": 145,
      "outputs": [
        {
          "output_type": "execute_result",
          "data": {
            "text/plain": [
              "[('bir', 20463),\n",
              " ('\\x92', 11924),\n",
              " ('türkiye', 5475),\n",
              " ('nin', 5071),\n",
              " ('olarak', 5058)]"
            ]
          },
          "metadata": {},
          "execution_count": 145
        }
      ]
    },
    {
      "cell_type": "code",
      "source": [
        "num_unique_words = len(counter) # Eşsiz Kelime Sayısı"
      ],
      "metadata": {
        "id": "iLAY78rWorZi"
      },
      "execution_count": 146,
      "outputs": []
    },
    {
      "cell_type": "code",
      "source": [
        "#burada elimdeki category datasındaki 7 farklı kategori için 1-7 değerler veriyorum\n",
        "\n",
        "df.loc[df['category'] == \"siyaset\", 'category'] = 1\n",
        "df.loc[df['category'] == \"ekonomi\", 'category'] = 2\n",
        "df.loc[df['category'] == \"kultur\", 'category'] = 3\n",
        "df.loc[df['category'] == \"dunya\", 'category'] = 4\n",
        "df.loc[df['category'] == \"spor\", 'category'] = 5\n",
        "df.loc[df['category'] == \"saglik\", 'category'] = 6\n",
        "df.loc[df['category'] == \"teknoloji\", 'category'] = 7\n",
        "df.loc[df['category'] == \"teknol\", 'category'] = 7\n"
      ],
      "metadata": {
        "id": "D_6lH1sEou40"
      },
      "execution_count": 147,
      "outputs": []
    },
    {
      "cell_type": "code",
      "source": [
        "df.head()"
      ],
      "metadata": {
        "colab": {
          "base_uri": "https://localhost:8080/",
          "height": 206
        },
        "id": "BVSCCLC4uN8l",
        "outputId": "53e16647-f3ef-4f39-8769-faaab4ded372"
      },
      "execution_count": 148,
      "outputs": [
        {
          "output_type": "execute_result",
          "data": {
            "text/plain": [
              "   category                                               text\n",
              "0  siyaset   3 milyon ön seçim vaadi mhp nin 10 olağan büyü...\n",
              "1  siyaset   mesutyılmaz yücedivan ceza alabilirdi prof dr ...\n",
              "2  siyaset   disko lar kaldırılıyor başbakanyardımcısı arın...\n",
              "3  siyaset   sarıgül anayasamahkemesi gidiyor mustafasarıgü...\n",
              "4  siyaset   erdoğan idamın bir haklılık sebebi var demek y..."
            ],
            "text/html": [
              "\n",
              "  <div id=\"df-d91f021f-eb10-4ed4-ae13-d0235773bffe\">\n",
              "    <div class=\"colab-df-container\">\n",
              "      <div>\n",
              "<style scoped>\n",
              "    .dataframe tbody tr th:only-of-type {\n",
              "        vertical-align: middle;\n",
              "    }\n",
              "\n",
              "    .dataframe tbody tr th {\n",
              "        vertical-align: top;\n",
              "    }\n",
              "\n",
              "    .dataframe thead th {\n",
              "        text-align: right;\n",
              "    }\n",
              "</style>\n",
              "<table border=\"1\" class=\"dataframe\">\n",
              "  <thead>\n",
              "    <tr style=\"text-align: right;\">\n",
              "      <th></th>\n",
              "      <th>category</th>\n",
              "      <th>text</th>\n",
              "    </tr>\n",
              "  </thead>\n",
              "  <tbody>\n",
              "    <tr>\n",
              "      <th>0</th>\n",
              "      <td>siyaset</td>\n",
              "      <td>3 milyon ön seçim vaadi mhp nin 10 olağan büyü...</td>\n",
              "    </tr>\n",
              "    <tr>\n",
              "      <th>1</th>\n",
              "      <td>siyaset</td>\n",
              "      <td>mesutyılmaz yücedivan ceza alabilirdi prof dr ...</td>\n",
              "    </tr>\n",
              "    <tr>\n",
              "      <th>2</th>\n",
              "      <td>siyaset</td>\n",
              "      <td>disko lar kaldırılıyor başbakanyardımcısı arın...</td>\n",
              "    </tr>\n",
              "    <tr>\n",
              "      <th>3</th>\n",
              "      <td>siyaset</td>\n",
              "      <td>sarıgül anayasamahkemesi gidiyor mustafasarıgü...</td>\n",
              "    </tr>\n",
              "    <tr>\n",
              "      <th>4</th>\n",
              "      <td>siyaset</td>\n",
              "      <td>erdoğan idamın bir haklılık sebebi var demek y...</td>\n",
              "    </tr>\n",
              "  </tbody>\n",
              "</table>\n",
              "</div>\n",
              "      <button class=\"colab-df-convert\" onclick=\"convertToInteractive('df-d91f021f-eb10-4ed4-ae13-d0235773bffe')\"\n",
              "              title=\"Convert this dataframe to an interactive table.\"\n",
              "              style=\"display:none;\">\n",
              "        \n",
              "  <svg xmlns=\"http://www.w3.org/2000/svg\" height=\"24px\"viewBox=\"0 0 24 24\"\n",
              "       width=\"24px\">\n",
              "    <path d=\"M0 0h24v24H0V0z\" fill=\"none\"/>\n",
              "    <path d=\"M18.56 5.44l.94 2.06.94-2.06 2.06-.94-2.06-.94-.94-2.06-.94 2.06-2.06.94zm-11 1L8.5 8.5l.94-2.06 2.06-.94-2.06-.94L8.5 2.5l-.94 2.06-2.06.94zm10 10l.94 2.06.94-2.06 2.06-.94-2.06-.94-.94-2.06-.94 2.06-2.06.94z\"/><path d=\"M17.41 7.96l-1.37-1.37c-.4-.4-.92-.59-1.43-.59-.52 0-1.04.2-1.43.59L10.3 9.45l-7.72 7.72c-.78.78-.78 2.05 0 2.83L4 21.41c.39.39.9.59 1.41.59.51 0 1.02-.2 1.41-.59l7.78-7.78 2.81-2.81c.8-.78.8-2.07 0-2.86zM5.41 20L4 18.59l7.72-7.72 1.47 1.35L5.41 20z\"/>\n",
              "  </svg>\n",
              "      </button>\n",
              "      \n",
              "  <style>\n",
              "    .colab-df-container {\n",
              "      display:flex;\n",
              "      flex-wrap:wrap;\n",
              "      gap: 12px;\n",
              "    }\n",
              "\n",
              "    .colab-df-convert {\n",
              "      background-color: #E8F0FE;\n",
              "      border: none;\n",
              "      border-radius: 50%;\n",
              "      cursor: pointer;\n",
              "      display: none;\n",
              "      fill: #1967D2;\n",
              "      height: 32px;\n",
              "      padding: 0 0 0 0;\n",
              "      width: 32px;\n",
              "    }\n",
              "\n",
              "    .colab-df-convert:hover {\n",
              "      background-color: #E2EBFA;\n",
              "      box-shadow: 0px 1px 2px rgba(60, 64, 67, 0.3), 0px 1px 3px 1px rgba(60, 64, 67, 0.15);\n",
              "      fill: #174EA6;\n",
              "    }\n",
              "\n",
              "    [theme=dark] .colab-df-convert {\n",
              "      background-color: #3B4455;\n",
              "      fill: #D2E3FC;\n",
              "    }\n",
              "\n",
              "    [theme=dark] .colab-df-convert:hover {\n",
              "      background-color: #434B5C;\n",
              "      box-shadow: 0px 1px 3px 1px rgba(0, 0, 0, 0.15);\n",
              "      filter: drop-shadow(0px 1px 2px rgba(0, 0, 0, 0.3));\n",
              "      fill: #FFFFFF;\n",
              "    }\n",
              "  </style>\n",
              "\n",
              "      <script>\n",
              "        const buttonEl =\n",
              "          document.querySelector('#df-d91f021f-eb10-4ed4-ae13-d0235773bffe button.colab-df-convert');\n",
              "        buttonEl.style.display =\n",
              "          google.colab.kernel.accessAllowed ? 'block' : 'none';\n",
              "\n",
              "        async function convertToInteractive(key) {\n",
              "          const element = document.querySelector('#df-d91f021f-eb10-4ed4-ae13-d0235773bffe');\n",
              "          const dataTable =\n",
              "            await google.colab.kernel.invokeFunction('convertToInteractive',\n",
              "                                                     [key], {});\n",
              "          if (!dataTable) return;\n",
              "\n",
              "          const docLinkHtml = 'Like what you see? Visit the ' +\n",
              "            '<a target=\"_blank\" href=https://colab.research.google.com/notebooks/data_table.ipynb>data table notebook</a>'\n",
              "            + ' to learn more about interactive tables.';\n",
              "          element.innerHTML = '';\n",
              "          dataTable['output_type'] = 'display_data';\n",
              "          await google.colab.output.renderOutput(dataTable, element);\n",
              "          const docLink = document.createElement('div');\n",
              "          docLink.innerHTML = docLinkHtml;\n",
              "          element.appendChild(docLink);\n",
              "        }\n",
              "      </script>\n",
              "    </div>\n",
              "  </div>\n",
              "  "
            ]
          },
          "metadata": {},
          "execution_count": 148
        }
      ]
    },
    {
      "cell_type": "code",
      "source": [
        "from sklearn.utils import shuffle\n",
        "\n",
        "# Verileri shuffle yapma\n",
        "shuffled_df = shuffle(df)"
      ],
      "metadata": {
        "id": "-H9R3FaObjuy"
      },
      "execution_count": 195,
      "outputs": []
    },
    {
      "cell_type": "code",
      "source": [
        "shuffled_df.head(\n",
        "\n",
        ")"
      ],
      "metadata": {
        "colab": {
          "base_uri": "https://localhost:8080/",
          "height": 206
        },
        "id": "-Mu8h1Y_cemk",
        "outputId": "5b1a7368-d371-4dce-ccd8-a9c411801b36"
      },
      "execution_count": 197,
      "outputs": [
        {
          "output_type": "execute_result",
          "data": {
            "text/plain": [
              "     category                                               text\n",
              "2681  kultur   bifo yu alipoyrazoğlu yönetecek ilki 2006 yılı...\n",
              "4134    spor   ünlü forvet polis dövdü ingiltere premierlig e...\n",
              "823    dunya   olağanüstü hal 3 ay uzatıldı tunus cumhurbaşka...\n",
              "1296   dunya   japonya erken genel seçime gidiyor japonya hük...\n",
              "2779  kultur   srebrenica inferno dünya prömiyeri ankara yapı..."
            ],
            "text/html": [
              "\n",
              "  <div id=\"df-2f438236-4b01-4a0e-b8f6-19e2ccf71fe6\">\n",
              "    <div class=\"colab-df-container\">\n",
              "      <div>\n",
              "<style scoped>\n",
              "    .dataframe tbody tr th:only-of-type {\n",
              "        vertical-align: middle;\n",
              "    }\n",
              "\n",
              "    .dataframe tbody tr th {\n",
              "        vertical-align: top;\n",
              "    }\n",
              "\n",
              "    .dataframe thead th {\n",
              "        text-align: right;\n",
              "    }\n",
              "</style>\n",
              "<table border=\"1\" class=\"dataframe\">\n",
              "  <thead>\n",
              "    <tr style=\"text-align: right;\">\n",
              "      <th></th>\n",
              "      <th>category</th>\n",
              "      <th>text</th>\n",
              "    </tr>\n",
              "  </thead>\n",
              "  <tbody>\n",
              "    <tr>\n",
              "      <th>2681</th>\n",
              "      <td>kultur</td>\n",
              "      <td>bifo yu alipoyrazoğlu yönetecek ilki 2006 yılı...</td>\n",
              "    </tr>\n",
              "    <tr>\n",
              "      <th>4134</th>\n",
              "      <td>spor</td>\n",
              "      <td>ünlü forvet polis dövdü ingiltere premierlig e...</td>\n",
              "    </tr>\n",
              "    <tr>\n",
              "      <th>823</th>\n",
              "      <td>dunya</td>\n",
              "      <td>olağanüstü hal 3 ay uzatıldı tunus cumhurbaşka...</td>\n",
              "    </tr>\n",
              "    <tr>\n",
              "      <th>1296</th>\n",
              "      <td>dunya</td>\n",
              "      <td>japonya erken genel seçime gidiyor japonya hük...</td>\n",
              "    </tr>\n",
              "    <tr>\n",
              "      <th>2779</th>\n",
              "      <td>kultur</td>\n",
              "      <td>srebrenica inferno dünya prömiyeri ankara yapı...</td>\n",
              "    </tr>\n",
              "  </tbody>\n",
              "</table>\n",
              "</div>\n",
              "      <button class=\"colab-df-convert\" onclick=\"convertToInteractive('df-2f438236-4b01-4a0e-b8f6-19e2ccf71fe6')\"\n",
              "              title=\"Convert this dataframe to an interactive table.\"\n",
              "              style=\"display:none;\">\n",
              "        \n",
              "  <svg xmlns=\"http://www.w3.org/2000/svg\" height=\"24px\"viewBox=\"0 0 24 24\"\n",
              "       width=\"24px\">\n",
              "    <path d=\"M0 0h24v24H0V0z\" fill=\"none\"/>\n",
              "    <path d=\"M18.56 5.44l.94 2.06.94-2.06 2.06-.94-2.06-.94-.94-2.06-.94 2.06-2.06.94zm-11 1L8.5 8.5l.94-2.06 2.06-.94-2.06-.94L8.5 2.5l-.94 2.06-2.06.94zm10 10l.94 2.06.94-2.06 2.06-.94-2.06-.94-.94-2.06-.94 2.06-2.06.94z\"/><path d=\"M17.41 7.96l-1.37-1.37c-.4-.4-.92-.59-1.43-.59-.52 0-1.04.2-1.43.59L10.3 9.45l-7.72 7.72c-.78.78-.78 2.05 0 2.83L4 21.41c.39.39.9.59 1.41.59.51 0 1.02-.2 1.41-.59l7.78-7.78 2.81-2.81c.8-.78.8-2.07 0-2.86zM5.41 20L4 18.59l7.72-7.72 1.47 1.35L5.41 20z\"/>\n",
              "  </svg>\n",
              "      </button>\n",
              "      \n",
              "  <style>\n",
              "    .colab-df-container {\n",
              "      display:flex;\n",
              "      flex-wrap:wrap;\n",
              "      gap: 12px;\n",
              "    }\n",
              "\n",
              "    .colab-df-convert {\n",
              "      background-color: #E8F0FE;\n",
              "      border: none;\n",
              "      border-radius: 50%;\n",
              "      cursor: pointer;\n",
              "      display: none;\n",
              "      fill: #1967D2;\n",
              "      height: 32px;\n",
              "      padding: 0 0 0 0;\n",
              "      width: 32px;\n",
              "    }\n",
              "\n",
              "    .colab-df-convert:hover {\n",
              "      background-color: #E2EBFA;\n",
              "      box-shadow: 0px 1px 2px rgba(60, 64, 67, 0.3), 0px 1px 3px 1px rgba(60, 64, 67, 0.15);\n",
              "      fill: #174EA6;\n",
              "    }\n",
              "\n",
              "    [theme=dark] .colab-df-convert {\n",
              "      background-color: #3B4455;\n",
              "      fill: #D2E3FC;\n",
              "    }\n",
              "\n",
              "    [theme=dark] .colab-df-convert:hover {\n",
              "      background-color: #434B5C;\n",
              "      box-shadow: 0px 1px 3px 1px rgba(0, 0, 0, 0.15);\n",
              "      filter: drop-shadow(0px 1px 2px rgba(0, 0, 0, 0.3));\n",
              "      fill: #FFFFFF;\n",
              "    }\n",
              "  </style>\n",
              "\n",
              "      <script>\n",
              "        const buttonEl =\n",
              "          document.querySelector('#df-2f438236-4b01-4a0e-b8f6-19e2ccf71fe6 button.colab-df-convert');\n",
              "        buttonEl.style.display =\n",
              "          google.colab.kernel.accessAllowed ? 'block' : 'none';\n",
              "\n",
              "        async function convertToInteractive(key) {\n",
              "          const element = document.querySelector('#df-2f438236-4b01-4a0e-b8f6-19e2ccf71fe6');\n",
              "          const dataTable =\n",
              "            await google.colab.kernel.invokeFunction('convertToInteractive',\n",
              "                                                     [key], {});\n",
              "          if (!dataTable) return;\n",
              "\n",
              "          const docLinkHtml = 'Like what you see? Visit the ' +\n",
              "            '<a target=\"_blank\" href=https://colab.research.google.com/notebooks/data_table.ipynb>data table notebook</a>'\n",
              "            + ' to learn more about interactive tables.';\n",
              "          element.innerHTML = '';\n",
              "          dataTable['output_type'] = 'display_data';\n",
              "          await google.colab.output.renderOutput(dataTable, element);\n",
              "          const docLink = document.createElement('div');\n",
              "          docLink.innerHTML = docLinkHtml;\n",
              "          element.appendChild(docLink);\n",
              "        }\n",
              "      </script>\n",
              "    </div>\n",
              "  </div>\n",
              "  "
            ]
          },
          "metadata": {},
          "execution_count": 197
        }
      ]
    },
    {
      "cell_type": "code",
      "source": [
        "#Eğitim için elimizdeki datanın yüzde 65'ini kullanıcam\n",
        "#Geri kalan ise valdiation için kullanıcam\n",
        "train_size = int(shuffled_df.shape[0] * 0.65)\n",
        "train_df = shuffled_df[:train_size]\n",
        "val_df = shuffled_df[train_size:]\n",
        "\n",
        "#Textleri ve type 'ları ayırıyorum\n",
        "train_sentences = train_df['text'].to_numpy()\n",
        "train_labels = train_df['category'].to_numpy()\n",
        "val_sentences = val_df['text'].to_numpy()\n",
        "val_labels = val_df['category'].to_numpy()"
      ],
      "metadata": {
        "id": "IRwMqytYuW-D"
      },
      "execution_count": 196,
      "outputs": []
    },
    {
      "cell_type": "code",
      "source": [
        "train_sentences.shape , val_sentences.shape , train_labels.shape"
      ],
      "metadata": {
        "colab": {
          "base_uri": "https://localhost:8080/"
        },
        "id": "srCo43lYucbv",
        "outputId": "091d83f0-5e36-43d2-c09f-feda7c77777b"
      },
      "execution_count": 198,
      "outputs": [
        {
          "output_type": "execute_result",
          "data": {
            "text/plain": [
              "((3185,), (1715,), (3185,))"
            ]
          },
          "metadata": {},
          "execution_count": 198
        }
      ]
    },
    {
      "cell_type": "code",
      "source": [
        "train_labels"
      ],
      "metadata": {
        "colab": {
          "base_uri": "https://localhost:8080/"
        },
        "id": "DDHnF385D_A7",
        "outputId": "a369e3e6-8a90-4c34-83c3-0317533e449b"
      },
      "execution_count": 199,
      "outputs": [
        {
          "output_type": "execute_result",
          "data": {
            "text/plain": [
              "array(['kultur ', 'spor ', 'dunya ', ..., 'dunya ', 'kultur ', 'spor '],\n",
              "      dtype=object)"
            ]
          },
          "metadata": {},
          "execution_count": 199
        }
      ]
    },
    {
      "cell_type": "code",
      "source": [
        "#tokenizer paragrafları ve cümleleri daha kolay anlam atanabilecek daha küçük birimlere ayırır\n",
        "\n",
        "from tensorflow.keras.preprocessing.text import Tokenizer\n",
        "\n",
        "#vectorize a text corpus by turning each text into a sequance of integers\n",
        "tokenizer = Tokenizer(num_words=num_unique_words)\n",
        "tokenizer.fit_on_texts(train_sentences)"
      ],
      "metadata": {
        "id": "0rYTgU55uekR"
      },
      "execution_count": 200,
      "outputs": []
    },
    {
      "cell_type": "code",
      "source": [
        "#Her kelimenin kendine özel bir indexi var\n",
        "word_index = tokenizer.word_index"
      ],
      "metadata": {
        "id": "wgr5gwZhugNl"
      },
      "execution_count": 201,
      "outputs": []
    },
    {
      "cell_type": "code",
      "source": [
        "word_index"
      ],
      "metadata": {
        "colab": {
          "base_uri": "https://localhost:8080/"
        },
        "id": "aPTMDIIjuhi4",
        "outputId": "3286a628-ef53-4261-bf69-aefb253ef27f"
      },
      "execution_count": 202,
      "outputs": [
        {
          "output_type": "execute_result",
          "data": {
            "text/plain": [
              "{'bir': 1,\n",
              " '\\x92': 2,\n",
              " 'türkiye': 3,\n",
              " 'nin': 4,\n",
              " 'olarak': 5,\n",
              " '\\x94': 6,\n",
              " '\\x93': 7,\n",
              " 'olan': 8,\n",
              " 'ın': 9,\n",
              " 'in': 10,\n",
              " 'olduğunu': 11,\n",
              " 'dedi': 12,\n",
              " '1': 13,\n",
              " 'nın': 14,\n",
              " 'yüzde': 15,\n",
              " '2': 16,\n",
              " '3': 17,\n",
              " 'kadar': 18,\n",
              " 'ilk': 19,\n",
              " 'büyük': 20,\n",
              " 'yeni': 21,\n",
              " 'sonra': 22,\n",
              " 'bin': 23,\n",
              " 'a': 24,\n",
              " '5': 25,\n",
              " 'son': 26,\n",
              " 'söyledi': 27,\n",
              " 'yıl': 28,\n",
              " 'göre': 29,\n",
              " 'önemli': 30,\n",
              " 'var': 31,\n",
              " 'ilgili': 32,\n",
              " 'milyon': 33,\n",
              " '4': 34,\n",
              " 'etti': 35,\n",
              " 'olduğu': 36,\n",
              " 'e': 37,\n",
              " 'tarafından': 38,\n",
              " 'iyi': 39,\n",
              " 'yer': 40,\n",
              " 'ifade': 41,\n",
              " 'devam': 42,\n",
              " 'iki': 43,\n",
              " 'eden': 44,\n",
              " 'ancak': 45,\n",
              " 'yapılan': 46,\n",
              " '10': 47,\n",
              " 'önce': 48,\n",
              " 'ye': 49,\n",
              " 'arasında': 50,\n",
              " 'konuştu': 51,\n",
              " 'istanbul': 52,\n",
              " 'un': 53,\n",
              " 'oldu': 54,\n",
              " '6': 55,\n",
              " 'türk': 56,\n",
              " 'dr': 57,\n",
              " 'değil': 58,\n",
              " 'ardından': 59,\n",
              " 'fazla': 60,\n",
              " 'yaptığı': 61,\n",
              " 'nde': 62,\n",
              " 'dan': 63,\n",
              " 'sadece': 64,\n",
              " 'içinde': 65,\n",
              " 'den': 66,\n",
              " 'aynı': 67,\n",
              " '2012': 68,\n",
              " 'nun': 69,\n",
              " 'ortaya': 70,\n",
              " 'abd': 71,\n",
              " 'özel': 72,\n",
              " 'zaman': 73,\n",
              " 'şöyle': 74,\n",
              " 'geçen': 75,\n",
              " 'şekilde': 76,\n",
              " 'birlikte': 77,\n",
              " '8': 78,\n",
              " '7': 79,\n",
              " 'gelen': 80,\n",
              " 'bunun': 81,\n",
              " 'milyar': 82,\n",
              " 'alan': 83,\n",
              " 'karşı': 84,\n",
              " 'diğer': 85,\n",
              " 'yok': 86,\n",
              " 'yüksek': 87,\n",
              " 'yılında': 88,\n",
              " 'kendi': 89,\n",
              " 'başkanı': 90,\n",
              " 'belirten': 91,\n",
              " 'gün': 92,\n",
              " 'verdi': 93,\n",
              " 'nda': 94,\n",
              " 'üzerine': 95,\n",
              " 'sahip': 96,\n",
              " 'israil': 97,\n",
              " 'nedeniyle': 98,\n",
              " 'suriye': 99,\n",
              " 'farklı': 100,\n",
              " 'üzerinde': 101,\n",
              " 'belirtti': 102,\n",
              " 'konusunda': 103,\n",
              " 'dikkat': 104,\n",
              " 'bulunan': 105,\n",
              " 'tek': 106,\n",
              " 'bunu': 107,\n",
              " 'dünya': 108,\n",
              " 'i': 109,\n",
              " '9': 110,\n",
              " 'chp': 111,\n",
              " 'özellikle': 112,\n",
              " 'te': 113,\n",
              " 'kaydetti': 114,\n",
              " 'dile': 115,\n",
              " '20': 116,\n",
              " 'ben': 117,\n",
              " 'bugün': 118,\n",
              " '\\x91': 119,\n",
              " 'deki': 120,\n",
              " '12': 121,\n",
              " 'açıklamada': 122,\n",
              " 'olması': 123,\n",
              " 'olmak': 124,\n",
              " 'ta': 125,\n",
              " 'olacak': 126,\n",
              " 'kasım': 127,\n",
              " 'üzere': 128,\n",
              " 'bizim': 129,\n",
              " 'dolar': 130,\n",
              " 'uzun': 131,\n",
              " 'belirterek': 132,\n",
              " 'internet': 133,\n",
              " 'avrupa': 134,\n",
              " 'böyle': 135,\n",
              " '15': 136,\n",
              " 'kişi': 137,\n",
              " 'yapan': 138,\n",
              " 'artık': 139,\n",
              " 'ilişkin': 140,\n",
              " 'ayrıca': 141,\n",
              " '30': 142,\n",
              " 'yaklaşık': 143,\n",
              " 'na': 144,\n",
              " 'bütün': 145,\n",
              " 'daki': 146,\n",
              " 'hakkında': 147,\n",
              " 'film': 148,\n",
              " 'iş': 149,\n",
              " 'yönelik': 150,\n",
              " 'gerektiğini': 151,\n",
              " 'doğru': 152,\n",
              " 'ı': 153,\n",
              " 'tedavi': 154,\n",
              " 'uluslararası': 155,\n",
              " 'bile': 156,\n",
              " 'birçok': 157,\n",
              " 'kalp': 158,\n",
              " 'lira': 159,\n",
              " 'hafta': 160,\n",
              " 'söz': 161,\n",
              " 'ay': 162,\n",
              " 'ikinci': 163,\n",
              " 'başka': 164,\n",
              " '11': 165,\n",
              " 'ediyor': 166,\n",
              " '2013': 167,\n",
              " 'edilen': 168,\n",
              " 'sağlık': 169,\n",
              " 'yi': 170,\n",
              " 'saat': 171,\n",
              " 'akparti': 172,\n",
              " 'dünyanın': 173,\n",
              " 'geldi': 174,\n",
              " 'kabul': 175,\n",
              " '100': 176,\n",
              " 'yol': 177,\n",
              " 'aldı': 178,\n",
              " 'şunları': 179,\n",
              " '0': 180,\n",
              " 'genel': 181,\n",
              " 'bulundu': 182,\n",
              " 'yeniden': 183,\n",
              " 'ülke': 184,\n",
              " 'günü': 185,\n",
              " 'çıkan': 186,\n",
              " 'kişinin': 187,\n",
              " 'tl': 188,\n",
              " 'sosyal': 189,\n",
              " 'teknik': 190,\n",
              " 'destek': 191,\n",
              " '2011': 192,\n",
              " 'yakın': 193,\n",
              " 'aa': 194,\n",
              " 'rusya': 195,\n",
              " 'konusu': 196,\n",
              " 'yaptı': 197,\n",
              " 'eğitim': 198,\n",
              " 'karar': 199,\n",
              " 'yerine': 200,\n",
              " 'su': 201,\n",
              " 'ciddi': 202,\n",
              " 'bilgi': 203,\n",
              " 'oyun': 204,\n",
              " 'rağmen': 205,\n",
              " '16': 206,\n",
              " 'ankara': 207,\n",
              " 'yılın': 208,\n",
              " 'erdoğan': 209,\n",
              " 'bağlı': 210,\n",
              " 'adlı': 211,\n",
              " '00': 212,\n",
              " 'süre': 213,\n",
              " 'eski': 214,\n",
              " 'elde': 215,\n",
              " 'aralık': 216,\n",
              " 'ait': 217,\n",
              " 'olmadığını': 218,\n",
              " 'ettiği': 219,\n",
              " 'hiçbir': 220,\n",
              " 'başbakan': 221,\n",
              " '13': 222,\n",
              " 'toplam': 223,\n",
              " 'devlet': 224,\n",
              " 'açık': 225,\n",
              " 'düzenlenen': 226,\n",
              " 'ün': 227,\n",
              " 'üç': 228,\n",
              " 'üzerinden': 229,\n",
              " 'tam': 230,\n",
              " 'veren': 231,\n",
              " 'başladı': 232,\n",
              " 'bilim': 233,\n",
              " 'yine': 234,\n",
              " 'geri': 235,\n",
              " 'burada': 236,\n",
              " 'olabilir': 237,\n",
              " 'kısa': 238,\n",
              " '18': 239,\n",
              " 'sıra': 240,\n",
              " 'ederek': 241,\n",
              " 'dönemde': 242,\n",
              " 'altında': 243,\n",
              " 'verdiği': 244,\n",
              " 'galatasaray': 245,\n",
              " '50': 246,\n",
              " 'yılda': 247,\n",
              " 'insan': 248,\n",
              " '25': 249,\n",
              " 'çin': 250,\n",
              " '14': 251,\n",
              " 'ab': 252,\n",
              " 'göz': 253,\n",
              " 'ayında': 254,\n",
              " 'buna': 255,\n",
              " 'içerisinde': 256,\n",
              " 'yılı': 257,\n",
              " 'küçük': 258,\n",
              " 'siyasi': 259,\n",
              " 'mücadele': 260,\n",
              " 'çeken': 261,\n",
              " 'benim': 262,\n",
              " 'uygun': 263,\n",
              " 'dünyada': 264,\n",
              " 'edildi': 265,\n",
              " 'yanı': 266,\n",
              " 'prof': 267,\n",
              " 'milletvekili': 268,\n",
              " 'çocuk': 269,\n",
              " 'çıktı': 270,\n",
              " 'gerekiyor': 271,\n",
              " 'aldığı': 272,\n",
              " 'kapsamında': 273,\n",
              " 'enerji': 274,\n",
              " 'güçlü': 275,\n",
              " 'sonucu': 276,\n",
              " 'u': 277,\n",
              " 'sistemi': 278,\n",
              " 'el': 279,\n",
              " 'li': 280,\n",
              " 'ekonomik': 281,\n",
              " 'basın': 282,\n",
              " 'getiren': 283,\n",
              " 'açıkladı': 284,\n",
              " 'anlatan': 285,\n",
              " 'ocak': 286,\n",
              " 'etmek': 287,\n",
              " 'getirdi': 288,\n",
              " 'ana': 289,\n",
              " 'kadın': 290,\n",
              " 'dün': 291,\n",
              " 'tarihi': 292,\n",
              " 'dışında': 293,\n",
              " 'genç': 294,\n",
              " 'gelecek': 295,\n",
              " 'güzel': 296,\n",
              " 'zamanda': 297,\n",
              " 'ünlü': 298,\n",
              " 'şimdi': 299,\n",
              " 'mümkün': 300,\n",
              " 'herhangi': 301,\n",
              " 'şeklinde': 302,\n",
              " 'merkezi': 303,\n",
              " 'konuda': 304,\n",
              " 'oluyor': 305,\n",
              " 'ekim': 306,\n",
              " 'mi': 307,\n",
              " 'sırasında': 308,\n",
              " 'olur': 309,\n",
              " 'takip': 310,\n",
              " 'takım': 311,\n",
              " 'facebook': 312,\n",
              " 'anda': 313,\n",
              " 'diş': 314,\n",
              " 'askeri': 315,\n",
              " 'grubu': 316,\n",
              " 'sık': 317,\n",
              " 'para': 318,\n",
              " 'yatırım': 319,\n",
              " 'verilen': 320,\n",
              " 'nden': 321,\n",
              " 'hayatını': 322,\n",
              " 'yapılacak': 323,\n",
              " 'iddia': 324,\n",
              " 'almanya': 325,\n",
              " 'ilaç': 326,\n",
              " 'nedenle': 327,\n",
              " 'dikkati': 328,\n",
              " 'çalışma': 329,\n",
              " 'işaret': 330,\n",
              " 'bulunduğu': 331,\n",
              " 'bildirdi': 332,\n",
              " 'bundan': 333,\n",
              " 'açısından': 334,\n",
              " 'belirtildi': 335,\n",
              " '40': 336,\n",
              " 'iç': 337,\n",
              " '17': 338,\n",
              " 'tan': 339,\n",
              " 'kan': 340,\n",
              " 'kullandı': 341,\n",
              " 'yaş': 342,\n",
              " 'ettiğini': 343,\n",
              " 'kötü': 344,\n",
              " 'başarılı': 345,\n",
              " 'lazım': 346,\n",
              " 'sayısı': 347,\n",
              " 'müzik': 348,\n",
              " 'haline': 349,\n",
              " 'arasındaki': 350,\n",
              " 'erken': 351,\n",
              " 'gereken': 352,\n",
              " '24': 353,\n",
              " 'bulunuyor': 354,\n",
              " 'yıllık': 355,\n",
              " 'güvenlik': 356,\n",
              " 'önceki': 357,\n",
              " 'hale': 358,\n",
              " 'görev': 359,\n",
              " 'boyunca': 360,\n",
              " 'hemen': 361,\n",
              " 'akıllı': 362,\n",
              " 'kredi': 363,\n",
              " 'dolayı': 364,\n",
              " 'söyleyen': 365,\n",
              " 'sayesinde': 366,\n",
              " 'ülkenin': 367,\n",
              " 'zor': 368,\n",
              " 'üst': 369,\n",
              " 'geliyor': 370,\n",
              " 'başında': 371,\n",
              " 'durum': 372,\n",
              " '2010': 373,\n",
              " 'araştırma': 374,\n",
              " '500': 375,\n",
              " 'kontrol': 376,\n",
              " 'halinde': 377,\n",
              " 'puan': 378,\n",
              " 'başbakanerdoğan': 379,\n",
              " 'sonunda': 380,\n",
              " 'vurgulayan': 381,\n",
              " 'hava': 382,\n",
              " 'henüz': 383,\n",
              " 'çeşitli': 384,\n",
              " 'sahibi': 385,\n",
              " 'kültür': 386,\n",
              " 'com': 387,\n",
              " 'an': 388,\n",
              " 'apple': 389,\n",
              " 'oluşan': 390,\n",
              " 'resmi': 391,\n",
              " 'yana': 392,\n",
              " '19': 393,\n",
              " 'meclis': 394,\n",
              " 'yabancı': 395,\n",
              " '21': 396,\n",
              " 'eylül': 397,\n",
              " 'yoğun': 398,\n",
              " 'grup': 399,\n",
              " 'sanat': 400,\n",
              " 'kamu': 401,\n",
              " 'vurguladı': 402,\n",
              " 'itibaren': 403,\n",
              " 'bize': 404,\n",
              " 'tekrar': 405,\n",
              " 'anlattı': 406,\n",
              " 'sezon': 407,\n",
              " 'gazze': 408,\n",
              " 'hangi': 409,\n",
              " 'sağlıklı': 410,\n",
              " 'olsun': 411,\n",
              " 'beşiktaş': 412,\n",
              " 'tespit': 413,\n",
              " 'olduğuna': 414,\n",
              " 'çekti': 415,\n",
              " 'alınan': 416,\n",
              " 'hizmet': 417,\n",
              " 'bugüne': 418,\n",
              " 'olmayan': 419,\n",
              " 'izmir': 420,\n",
              " 'edecek': 421,\n",
              " 'düşük': 422,\n",
              " 'maç': 423,\n",
              " 'sırada': 424,\n",
              " 'sigara': 425,\n",
              " 'işte': 426,\n",
              " 'savaş': 427,\n",
              " 'satış': 428,\n",
              " 'la': 429,\n",
              " 'spor': 430,\n",
              " 'pek': 431,\n",
              " 'alıyor': 432,\n",
              " 'kalan': 433,\n",
              " '22': 434,\n",
              " 'başlayan': 435,\n",
              " 'temel': 436,\n",
              " 'fransa': 437,\n",
              " 'adet': 438,\n",
              " 'yaşanan': 439,\n",
              " 'iran': 440,\n",
              " 'dahil': 441,\n",
              " 'bildirildi': 442,\n",
              " 'yı': 443,\n",
              " 'ele': 444,\n",
              " 'açıklama': 445,\n",
              " 'ortak': 446,\n",
              " 'kaydeden': 447,\n",
              " 'ziyaret': 448,\n",
              " 'bunlar': 449,\n",
              " 'biraz': 450,\n",
              " 'yanlış': 451,\n",
              " 'adı': 452,\n",
              " 'yaşındaki': 453,\n",
              " 'zarar': 454,\n",
              " 'yönetim': 455,\n",
              " 'sonrası': 456,\n",
              " 'üçüncü': 457,\n",
              " 'bdp': 458,\n",
              " 'ingiltere': 459,\n",
              " 'milli': 460,\n",
              " 'başkan': 461,\n",
              " 'çalışan': 462,\n",
              " 'maçında': 463,\n",
              " 'obama': 464,\n",
              " 'savunma': 465,\n",
              " 'yapılması': 466,\n",
              " 'yapıldı': 467,\n",
              " '60': 468,\n",
              " 'tercih': 469,\n",
              " 'fakat': 470,\n",
              " 'yurt': 471,\n",
              " 'kararı': 472,\n",
              " 'öne': 473,\n",
              " 'uygulama': 474,\n",
              " 'kitap': 475,\n",
              " 'google': 476,\n",
              " 'sayıda': 477,\n",
              " 'meydana': 478,\n",
              " 'üniversitesi': 479,\n",
              " 'onun': 480,\n",
              " 'anne': 481,\n",
              " 'lik': 482,\n",
              " 'yıldız': 483,\n",
              " 'kullanılan': 484,\n",
              " 'amacıyla': 485,\n",
              " 'katıldı': 486,\n",
              " 'oranı': 487,\n",
              " 'adına': 488,\n",
              " 'artış': 489,\n",
              " 'terör': 490,\n",
              " 'euro': 491,\n",
              " 'dolayısıyla': 492,\n",
              " 'üyesi': 493,\n",
              " 'gerekli': 494,\n",
              " 'petrol': 495,\n",
              " 'hastalığı': 496,\n",
              " 'araya': 497,\n",
              " 'doç': 498,\n",
              " 'oyuncu': 499,\n",
              " 'altın': 500,\n",
              " 'edilmesi': 501,\n",
              " 'telefon': 502,\n",
              " 'isteyen': 503,\n",
              " 'önümüzdeki': 504,\n",
              " 'dışı': 505,\n",
              " 'yıldır': 506,\n",
              " 'yaşayan': 507,\n",
              " 'yaşam': 508,\n",
              " '23': 509,\n",
              " 'maçı': 510,\n",
              " 'pkk': 511,\n",
              " 'yanında': 512,\n",
              " 'görülen': 513,\n",
              " 'gerek': 514,\n",
              " 'insanlar': 515,\n",
              " 'yardım': 516,\n",
              " 'başta': 517,\n",
              " 'konu': 518,\n",
              " 'döneminde': 519,\n",
              " 'sorun': 520,\n",
              " 'teknoloji': 521,\n",
              " 'normal': 522,\n",
              " 'ödülü': 523,\n",
              " 'belli': 524,\n",
              " 'ileri': 525,\n",
              " 'soru': 526,\n",
              " 'hareket': 527,\n",
              " 'elektrik': 528,\n",
              " 'satın': 529,\n",
              " 'haber': 530,\n",
              " 'filmi': 531,\n",
              " '28': 532,\n",
              " 'bana': 533,\n",
              " 'irak': 534,\n",
              " 'diyen': 535,\n",
              " 'dönem': 536,\n",
              " 'hatta': 537,\n",
              " 'hızlı': 538,\n",
              " 'ceza': 539,\n",
              " 'yarın': 540,\n",
              " 'gerçek': 541,\n",
              " 'tür': 542,\n",
              " 'derece': 543,\n",
              " 'ali': 544,\n",
              " 'cep': 545,\n",
              " 'ndan': 546,\n",
              " 'almak': 547,\n",
              " 's': 548,\n",
              " 'kendisine': 549,\n",
              " 'altına': 550,\n",
              " 'dört': 551,\n",
              " 'talep': 552,\n",
              " 'ayrı': 553,\n",
              " 'imza': 554,\n",
              " 'herkes': 555,\n",
              " 'doğum': 556,\n",
              " 'yapmak': 557,\n",
              " 'ev': 558,\n",
              " 'maçta': 559,\n",
              " 'istiyoruz': 560,\n",
              " 'olup': 561,\n",
              " 'sinema': 562,\n",
              " 'gelir': 563,\n",
              " 'cihan': 564,\n",
              " 'hastalık': 565,\n",
              " 'konuşan': 566,\n",
              " 'iphone': 567,\n",
              " 'ilgi': 568,\n",
              " 'ifadelerini': 569,\n",
              " 'zaten': 570,\n",
              " 'hayata': 571,\n",
              " 'çelik': 572,\n",
              " 'alacak': 573,\n",
              " 'durumunda': 574,\n",
              " 'yapıyor': 575,\n",
              " 'ü': 576,\n",
              " 'vardır': 577,\n",
              " 'insanların': 578,\n",
              " 'olmadığı': 579,\n",
              " 'ulusal': 580,\n",
              " 'kilo': 581,\n",
              " 'hasta': 582,\n",
              " 'bulunduğunu': 583,\n",
              " 'risk': 584,\n",
              " 'geçtiğimiz': 585,\n",
              " 'g': 586,\n",
              " 'filistin': 587,\n",
              " 'olacağını': 588,\n",
              " 'gol': 589,\n",
              " 'gece': 590,\n",
              " 'kılıçdaroğlu': 591,\n",
              " 'zorunda': 592,\n",
              " 'etkili': 593,\n",
              " 'dış': 594,\n",
              " 'olumsuz': 595,\n",
              " 'giren': 596,\n",
              " 'mhp': 597,\n",
              " 'bilgisayar': 598,\n",
              " 'soğuk': 599,\n",
              " 'yıllarda': 600,\n",
              " 'sona': 601,\n",
              " 'mutlaka': 602,\n",
              " 'önünde': 603,\n",
              " 'halk': 604,\n",
              " 'beyin': 605,\n",
              " 'karşısında': 606,\n",
              " 'tamamen': 607,\n",
              " 'durumda': 608,\n",
              " 'tbmm': 609,\n",
              " 'dakika': 610,\n",
              " 'dolara': 611,\n",
              " 'katkı': 612,\n",
              " 'net': 613,\n",
              " 'şubat': 614,\n",
              " 'yeterli': 615,\n",
              " 'onu': 616,\n",
              " 'güneş': 617,\n",
              " 'twitter': 618,\n",
              " 'süren': 619,\n",
              " 'varsa': 620,\n",
              " 'newyork': 621,\n",
              " 'orada': 622,\n",
              " 'oranında': 623,\n",
              " 'ediliyor': 624,\n",
              " 'ameliyat': 625,\n",
              " 'kişilerin': 626,\n",
              " 'gerekir': 627,\n",
              " 'ülkede': 628,\n",
              " 'böylece': 629,\n",
              " 'cevap': 630,\n",
              " 'the': 631,\n",
              " 'sarı': 632,\n",
              " '70': 633,\n",
              " 'bunların': 634,\n",
              " 'başbakanreceptayyiperdoğan': 635,\n",
              " 'kanser': 636,\n",
              " 'proje': 637,\n",
              " 'f': 638,\n",
              " 'burun': 639,\n",
              " 'sözlerine': 640,\n",
              " 'değildir': 641,\n",
              " 'sonrasında': 642,\n",
              " 'fotoğraf': 643,\n",
              " 'ağır': 644,\n",
              " 'gül': 645,\n",
              " 'yandan': 646,\n",
              " '2009': 647,\n",
              " 'dolarlık': 648,\n",
              " 'alanda': 649,\n",
              " 'çalışmalar': 650,\n",
              " 'dair': 651,\n",
              " 'barış': 652,\n",
              " '35': 653,\n",
              " 'önem': 654,\n",
              " 'aile': 655,\n",
              " 'hükümet': 656,\n",
              " 'mevcut': 657,\n",
              " 'olsa': 658,\n",
              " 'satışa': 659,\n",
              " 'hak': 660,\n",
              " 'şeker': 661,\n",
              " 'gıda': 662,\n",
              " 'çocukların': 663,\n",
              " 'verildi': 664,\n",
              " 'süreci': 665,\n",
              " 'kürt': 666,\n",
              " 'isimli': 667,\n",
              " 'istedi': 668,\n",
              " 'aşırı': 669,\n",
              " 'elektronik': 670,\n",
              " 'günlük': 671,\n",
              " 'sürekli': 672,\n",
              " 'geldiğini': 673,\n",
              " 'etmesi': 674,\n",
              " '200': 675,\n",
              " 'yönetimkurulu': 676,\n",
              " 'parti': 677,\n",
              " '90': 678,\n",
              " 'düzenlediği': 679,\n",
              " 'olumlu': 680,\n",
              " 'kendini': 681,\n",
              " 'yerli': 682,\n",
              " 'akşam': 683,\n",
              " 'ten': 684,\n",
              " 'kendisini': 685,\n",
              " 'küresel': 686,\n",
              " 'festivali': 687,\n",
              " 'yazılı': 688,\n",
              " 'oldukça': 689,\n",
              " 'sanayi': 690,\n",
              " 'et': 691,\n",
              " 'ölüm': 692,\n",
              " 'tepki': 693,\n",
              " 'oy': 694,\n",
              " 'hastaların': 695,\n",
              " 'arada': 696,\n",
              " 'başkanlık': 697,\n",
              " 'sorunu': 698,\n",
              " 'le': 699,\n",
              " 'ön': 700,\n",
              " 'ihtiyaç': 701,\n",
              " 'nato': 702,\n",
              " 'gündeme': 703,\n",
              " 'toplantısında': 704,\n",
              " 'dünyaya': 705,\n",
              " 'çalışmaları': 706,\n",
              " 'ödül': 707,\n",
              " 'rol': 708,\n",
              " 'öyle': 709,\n",
              " 'ediyorum': 710,\n",
              " 'durumu': 711,\n",
              " 'vardı': 712,\n",
              " 'ürün': 713,\n",
              " 'bölgede': 714,\n",
              " 'organ': 715,\n",
              " 'istiyor': 716,\n",
              " 'beni': 717,\n",
              " 'izin': 718,\n",
              " 'beri': 719,\n",
              " 'kurulu': 720,\n",
              " 'veriyor': 721,\n",
              " 'başına': 722,\n",
              " '45': 723,\n",
              " 'hükümetin': 724,\n",
              " 'adım': 725,\n",
              " 'cerrahi': 726,\n",
              " 'genelmüdürü': 727,\n",
              " 'günde': 728,\n",
              " '29': 729,\n",
              " 'yılmaz': 730,\n",
              " 'üretim': 731,\n",
              " 'şirket': 732,\n",
              " 'hala': 733,\n",
              " 'akp': 734,\n",
              " 'kapalı': 735,\n",
              " 'açlık': 736,\n",
              " 'arama': 737,\n",
              " 'gösterdi': 738,\n",
              " 'sorumlu': 739,\n",
              " 'aylık': 740,\n",
              " 'doğal': 741,\n",
              " 'ayı': 742,\n",
              " 'hastanın': 743,\n",
              " 'sene': 744,\n",
              " 'hollanda': 745,\n",
              " 'tarihinde': 746,\n",
              " 'olduklarını': 747,\n",
              " 'teşekkür': 748,\n",
              " 'mehmet': 749,\n",
              " 'sistem': 750,\n",
              " 'kazandı': 751,\n",
              " 'lideri': 752,\n",
              " 'altını': 753,\n",
              " 'mutlu': 754,\n",
              " 'bebek': 755,\n",
              " 'kolay': 756,\n",
              " 'fenerbahçe': 757,\n",
              " 'türkçe': 758,\n",
              " 'fark': 759,\n",
              " 'yaparak': 760,\n",
              " 'diyarbakır': 761,\n",
              " 'diyor': 762,\n",
              " 'bizi': 763,\n",
              " '26': 764,\n",
              " 'yardımcı': 765,\n",
              " 'anayasa': 766,\n",
              " 'nün': 767,\n",
              " 'gösteren': 768,\n",
              " 'italya': 769,\n",
              " 'ediyoruz': 770,\n",
              " 'çözüm': 771,\n",
              " 'cumhurbaşkanı': 772,\n",
              " 'bakan': 773,\n",
              " 'hedef': 774,\n",
              " 'ses': 775,\n",
              " 'hastalıkları': 776,\n",
              " 'önde': 777,\n",
              " 'il': 778,\n",
              " 'öte': 779,\n",
              " 'gerçekleştirilen': 780,\n",
              " 'bekleniyor': 781,\n",
              " 'ahmet': 782,\n",
              " 'ince': 783,\n",
              " '75': 784,\n",
              " 'düşünüyorum': 785,\n",
              " 'beraber': 786,\n",
              " 'tedavisi': 787,\n",
              " 'onların': 788,\n",
              " 'yasal': 789,\n",
              " 'kat': 790,\n",
              " '2008': 791,\n",
              " 'alanında': 792,\n",
              " 'sayı': 793,\n",
              " 'kaldı': 794,\n",
              " 'türlü': 795,\n",
              " 'antalya': 796,\n",
              " 'kazanan': 797,\n",
              " 'yere': 798,\n",
              " 'ingiliz': 799,\n",
              " 'sonraki': 800,\n",
              " 'sonucunda': 801,\n",
              " 'oyunu': 802,\n",
              " 'sırt': 803,\n",
              " 'projesi': 804,\n",
              " 'düzenli': 805,\n",
              " 'nedeni': 806,\n",
              " 'okul': 807,\n",
              " 'taşıyan': 808,\n",
              " 'canlı': 809,\n",
              " 'ni': 810,\n",
              " '400': 811,\n",
              " 'mobil': 812,\n",
              " 'önüne': 813,\n",
              " 'alt': 814,\n",
              " 'bilinen': 815,\n",
              " 'şampiyonlarligi': 816,\n",
              " 'orta': 817,\n",
              " 'aralarında': 818,\n",
              " 'kişilik': 819,\n",
              " 'gerçekten': 820,\n",
              " 'bilgileri': 821,\n",
              " 'hastalığın': 822,\n",
              " 'ekip': 823,\n",
              " '27': 824,\n",
              " 'hazır': 825,\n",
              " 'medya': 826,\n",
              " 'geniş': 827,\n",
              " 'mısır': 828,\n",
              " 'piyasaya': 829,\n",
              " 'bağış': 830,\n",
              " 'kaydedildi': 831,\n",
              " 'üye': 832,\n",
              " 'örnek': 833,\n",
              " '300': 834,\n",
              " 'hürriyet': 835,\n",
              " 'yerde': 836,\n",
              " 'herkesin': 837,\n",
              " 'sanatçı': 838,\n",
              " 'cluj': 839,\n",
              " 'hakkı': 840,\n",
              " 'birinci': 841,\n",
              " '80': 842,\n",
              " 'paris': 843,\n",
              " 'ulaştı': 844,\n",
              " 'televizyon': 845,\n",
              " 'londra': 846,\n",
              " 'onlar': 847,\n",
              " 'programı': 848,\n",
              " 'müdürü': 849,\n",
              " 'güç': 850,\n",
              " 'şirketin': 851,\n",
              " 'sağlığı': 852,\n",
              " 'silah': 853,\n",
              " 'bölümü': 854,\n",
              " 'ara': 855,\n",
              " 'katılan': 856,\n",
              " 'yanıt': 857,\n",
              " 'kendisi': 858,\n",
              " 'japonya': 859,\n",
              " 'yaşadığı': 860,\n",
              " 'soruşturma': 861,\n",
              " 'bm': 862,\n",
              " 'üncü': 863,\n",
              " 'işbirliği': 864,\n",
              " 'bazen': 865,\n",
              " 'ndeki': 866,\n",
              " 'ortadoğu': 867,\n",
              " 'etkisi': 868,\n",
              " 'samsung': 869,\n",
              " 'kurulan': 870,\n",
              " 'isim': 871,\n",
              " 'uzmanı': 872,\n",
              " 'öğretim': 873,\n",
              " 'mart': 874,\n",
              " 'seçim': 875,\n",
              " 'yaşında': 876,\n",
              " 'sabah': 877,\n",
              " 'hayat': 878,\n",
              " 'vermek': 879,\n",
              " 'ayak': 880,\n",
              " 'araç': 881,\n",
              " 'saray': 882,\n",
              " 'yayın': 883,\n",
              " 'komisyon': 884,\n",
              " 'ortalama': 885,\n",
              " 'tıpfakültesi': 886,\n",
              " 'yemek': 887,\n",
              " 'polis': 888,\n",
              " 'yasa': 889,\n",
              " 'sonu': 890,\n",
              " 'adam': 891,\n",
              " 'hastanesi': 892,\n",
              " 'yönetimi': 893,\n",
              " 'suç': 894,\n",
              " 'geçti': 895,\n",
              " 'erkek': 896,\n",
              " 'kış': 897,\n",
              " 'yılından': 898,\n",
              " 'filmin': 899,\n",
              " 'alarak': 900,\n",
              " 'uzak': 901,\n",
              " 'hızla': 902,\n",
              " 'tiyatro': 903,\n",
              " 'mustafa': 904,\n",
              " 'ticaret': 905,\n",
              " 'dava': 906,\n",
              " 'diyabet': 907,\n",
              " 'kullanan': 908,\n",
              " 'teklif': 909,\n",
              " 'not': 910,\n",
              " 'kırmızı': 911,\n",
              " 'dijital': 912,\n",
              " 'işitme': 913,\n",
              " 'çocuklar': 914,\n",
              " 'ayda': 915,\n",
              " 'd': 916,\n",
              " 'si': 917,\n",
              " 'deplasmanda': 918,\n",
              " 'yerel': 919,\n",
              " 'altı': 920,\n",
              " 'içi': 921,\n",
              " 'kişisel': 922,\n",
              " 'çevre': 923,\n",
              " 'üzerindeki': 924,\n",
              " 'günlerde': 925,\n",
              " 'pazar': 926,\n",
              " 'bahçe': 927,\n",
              " 'öncesi': 928,\n",
              " 'yapacak': 929,\n",
              " 'değinen': 930,\n",
              " 'onur': 931,\n",
              " 'merkez': 932,\n",
              " 'trabzonspor': 933,\n",
              " 'amerika': 934,\n",
              " 'damar': 935,\n",
              " 'değerli': 936,\n",
              " 'olma': 937,\n",
              " 'nisan': 938,\n",
              " 'serbest': 939,\n",
              " 'olursa': 940,\n",
              " 'ortadan': 941,\n",
              " 'adana': 942,\n",
              " 'sorularını': 943,\n",
              " 'maçın': 944,\n",
              " 'mesaj': 945,\n",
              " 'anadolu': 946,\n",
              " 'toplum': 947,\n",
              " 'bakanlık': 948,\n",
              " 'futbol': 949,\n",
              " 'nı': 950,\n",
              " 'inşaat': 951,\n",
              " 'yönetmen': 952,\n",
              " 'yaptıkları': 953,\n",
              " 'işi': 954,\n",
              " 'belirlendi': 955,\n",
              " 'başlayacak': 956,\n",
              " 'yardımcısı': 957,\n",
              " 'içeren': 958,\n",
              " 'yaptık': 959,\n",
              " 'geldiği': 960,\n",
              " 'itibariyle': 961,\n",
              " 'çerçevesinde': 962,\n",
              " 'yerini': 963,\n",
              " 'yunanistan': 964,\n",
              " 'ağrı': 965,\n",
              " 'hamas': 966,\n",
              " 'tehdit': 967,\n",
              " 'olmasını': 968,\n",
              " 'sağlayan': 969,\n",
              " 'girdi': 970,\n",
              " 'çıkacak': 971,\n",
              " 'şirketi': 972,\n",
              " 'davet': 973,\n",
              " 'sivil': 974,\n",
              " 'artan': 975,\n",
              " 'doğan': 976,\n",
              " 'insanın': 977,\n",
              " 'aldığını': 978,\n",
              " 'yönünde': 979,\n",
              " 'derneği': 980,\n",
              " 'ekledi': 981,\n",
              " 'böbrek': 982,\n",
              " 'edildiğini': 983,\n",
              " 'ismi': 984,\n",
              " 'pakistan': 985,\n",
              " 'baş': 986,\n",
              " 'amerikan': 987,\n",
              " 'of': 988,\n",
              " 'birliği': 989,\n",
              " 'devletin': 990,\n",
              " '31': 991,\n",
              " 'istiyorum': 992,\n",
              " 'yüz': 993,\n",
              " 'diyerek': 994,\n",
              " 'sürede': 995,\n",
              " 'toplantısı': 996,\n",
              " 'kendilerine': 997,\n",
              " 'ülkemizde': 998,\n",
              " 'geç': 999,\n",
              " 'bilimsel': 1000,\n",
              " ...}"
            ]
          },
          "metadata": {},
          "execution_count": 202
        }
      ]
    },
    {
      "cell_type": "code",
      "source": [
        "train_sequences = tokenizer.texts_to_sequences(train_sentences)\n",
        "val_sequences = tokenizer.texts_to_sequences(val_sentences)"
      ],
      "metadata": {
        "id": "whW_V10wuikS"
      },
      "execution_count": 203,
      "outputs": []
    },
    {
      "cell_type": "code",
      "source": [
        "print(train_sentences[10:15])\n",
        "print(train_sequences[10:15])"
      ],
      "metadata": {
        "colab": {
          "base_uri": "https://localhost:8080/"
        },
        "id": "Y9ssSVPnulKu",
        "outputId": "2c4ca73a-325b-4389-99ad-16fade6898af"
      },
      "execution_count": 204,
      "outputs": [
        {
          "output_type": "stream",
          "name": "stdout",
          "text": [
            "['güvenç dağüstün urban lounge 18 11 2012 22 00 ankara \\x92 dan viyana \\x92 uzanan akademik kariyerini yurtiçinde yurtdışında yer aldığı başarılı projelerle sürdürdü avusturya \\x92 c orff \\x92 un \\x93 carmina burana \\x94 adlı eserinde bariton sololarının yanı sıra kontrtenor solosunu seslendirerek bir ilke imza attı viyana \\x92 seslendirdiği yunan besteci perikles liakakis \\x92 in \\x93 çizmeli kedi \\x94 operasındaki başrol eserin dünyada ilk seslendirilişinin solistlerinden oldu sertaberener ortak projeleri olan \\x93 turco \\x96 latino connection \\x94 caz konserleri büyük beğeni topladı fazılsay \\x92 ın \\x93 nazım \\x94 eserini fazılsay gencoerkal sertaberener birlikte seslendirdi \\x93 rumeli hisarı \\x96 yıldızlı geceler \\x94 konserlerine fazılsay birlikte bir resital verdi say \\x92 ın şarkılarının türkiye \\x92 ilk seslendirilişini gerçekleştirdi son olarak şef ibrahimyazıcı yönetimindeki bilkent senfoni orkestrası eşliğinde say \\x92 ın \\x93 nazım \\x94 adlı eserinin cd dvd kayıtlarını fazılsay gencoerkal zuhalolcay birlikte gerçekleştirdi \\x93 bana mastika \\x92 yı çalsana \\x94 \\x93 istanbul \\x92 bir dava \\x94 çağanirmak \\x92 ın \\x93 ulak \\x94 filmi güven dağüstün \\x92 ün yer aldığı projeler arasında bulunuyor info urbanbuglounge com www urbanbuglounge com'\n",
            " 'türkiyeşampiyonası judo umut verdi judo federasyonu başkanı fatih uysal türkiye judo şampiyonası nda sporcuların verdikleri mücadelenin beklentileri yükselttiğini belirterek ortaya konulan performanstan memnun olduklarını şampiyonayla birlikte gelecekteki milli takımın çekirdeğini oluşturacaklarını söyledi şampiyonayı değerlendiren uysal şampiyonanın 2013 yılında yapılacak akdenizoyunları nın seçmeleri niteliğinde olduğunu söyledi uysal erkeklerde 60 66 73 81 100 kilolarda bayanlarda 48 52 57 63 artı 78 kilolarda sporcuların göz doldurduğunu sıkletlerdeki sporcuların performansından oldukça memnun olduklarını vurguladı fatih uysal \\x93 sporcularımızın performansından memnunuz gelecek milli takımın çekirdeğini oluşturacağız millitakımı yeniden yapılandırıyoruz önce prensipte anlaştığımız daniel lascau 1 ocak 31 aralık 2013 dönemini kapsayan 1 yıllık sözleşme imzaladık başarıya göre sözleşmeleri olimpiyatlara kadar yenileyeceğiz şampiyona anlamda bizim iyi geçti \\x94 konuştu uysal mersin önümüzdeki yapılacak akdenizoyunları nı önemsediklerini ifade ederek sözlerine şöyle devam etti oyunlardan sayıda madalya almak istiyoruz konu ilgili yurt içi yurt dışı çalışmalarımıza ağırlık vereceğiz olimpiyatlar world cup grant prix yarışlarını 4 yıllığına türkiye yapacağız yarışlarda başarılı olan çocuklarımız yıl boyunca kamplarda turnuvalarda şampiyonlarda çalışmalarına devam edecek olimpiyatlara hazırlanacak olimpiyatlara 2 yıl kala iyi sporcuları belirleyip yolumuza onlarla devam edeceğiz \\x94 başarıyı elde etmek sistematik bir çalışma içinde olacaklarını beklentileri boşa çıkarmayacaklarını belirten uysal judo milli takımlarında görev alan antrenörleri uzmanlaştıracaklarını bayan erkek takımların antrenörlerinin kamplarının çalışmalarının farklı olacağını bildirdi judo federasyonu başkanı fatih uysal \\x93 kapsamda milli takıma 70 civarında sporcuyu çağıracağız geleceğe ümitle baktığımız gençlerimiz var bunlardan uzun vadede milli takımda faydalanmak istiyoruz spor kulüplerimiz federasyon devlet üzerine düşeni fazlasıyla yapıyor artık sporcularımız üzerlerine düşeni yerine getirmesi gerekiyor mazeret üretmeden azimle çalışıp beklentileri boşa çıkarmadan milletimize söz verdiğimiz madalyaları kazandırmalılar sporculara türlü desteği veriyoruz onlardan madalya bekliyoruz \\x94 46 ilden toplam 377 sporcu ankara atatürksporsalonu nda 3 gün süren türkiye judo şampiyonası nda 46 ilden toplam 377 sporcu mücadele etti şampiyona sonunda sıkletlerinde birinci olan isimler şöyle bayanlar 48 kilo sümeyye akkuş kocaeli 52 kilo merve türk istanbul 57 kilo kudret eğilmez izmir 63 kilo bahar büker kocaeli 70 kilod şeyda bayram bursa 78 kilo firdevs toprak manisa 78 kilo gülşah kocatürk izmir erkekler 60 kilo çağrı yılmaz kocaeli 66 kilo murat doğan kocaeli 73 kilo mehmet durmaz kocaeli 81 kilo tanju şorli kocaeli 90 kilo yunus emre bayındır ankara 100 kilo erdal bağaç kocaeli 100 kilo burak serbest kocaeli'\n",
            " 'kongre uzlaşamasa abd kabus olacak abd nin mali uçurum a sürüklenmesine günler kala abdbaşkanıbarackobama kongre nin iki kanadığının çoğunluk azınlık liderleriyle bir araya geldi obama kongre uzlaşamazsa 1 ocak abd kabus olacak obama kongre arasında vergi artışları harcama kesintileri üzerine uzlaşma olmazsa abd 1 ocak tan itibaren mali uçurum a sürüklenecek obama liderleri beyazsaray kabul etti toplantıya temsilcilermeclisi başkanı john boehner meclis azınlık lideri nancy pelosi senato çoğunluk lideri harry reid senato azınlık lideri mitch mcconnell katıldı bunun yanında obama nın kabinesinden başkan yardımcısı joebiden hazine bakanı timothy geither toplantıda hazır bulundu obama noel tatilinden önce kongre ye seslenerek azından orta gelirli vatandaşların vergilerinin artmasını önleyen işsizlik maaşlarının verilmesini sağlayan bir düzenlemenin acil geçirilmesi çağrısı yapmıştı buna karşın boehner yine obama nın kesinlikle karşı durduğu zenginlere yönelik vergi kesintisini içeren bir düzenlemeyi temsilcilermeclisi getirme kararı almış ancak kendi partisinden yeterli desteği alamamıştı barackobama noel den sonra gecen yıllarda yılbaşına kadar süren tatili bölerek washington a döndü yeniden çalışmaya başladı washington siyaseti çekişmeler nedeniyle yıl bütçe konusundaki çıkmazları aşmakta zorlanıyor toplantıdan sızan bilgilere göre obama mali uçurum konusunda yeni bir teklifte bulunmadı obama nın toplantıda geçen hafta sunduğu teklifi tekrarladığı belirtiliyor ülke mali uçurum a giderse olur abd nin mali uçurum a gitmesi halinde ülke yeni bir ekonomik durgunluk riskiyle karşı karşıya kalacak obama kongre nin anlaşamaması halinde yeni yıl itibarıyla vergi kesintilerini kapsayan önceki düzenlemenin süresi dolacağından herkes vergiler artacak işsizlik maaşı olan 5 milyon insanın yüzde 40 ı yardımları kaybedecek dolayısıyla abd ekonomisinin mali uçurum halinde psikolojik reel anlamda ciddi hasara uğraması bekleniyor işsizlik oranının yüzde 9 1 e fırlayabileceği yorumları yapılıyor'\n",
            " 'öso dan ibrahimi nin ateşkes teklifine ret özgürsuriyeordusu öso bm arapbirliği suriye özel temsilcisi el ahdar el ibrahimi nin ateşkes önerisini reddetti öso komutanı ahmed hicazi aa muhabirine yaptığı açıklamada ibrahimi nin ateşkes çağrısını suriye halkının istekleri hedefleriyle uyuşmuyor ancak esed rejiminin tamamen devrilmesini kabul edebiliriz ifadesiyle eleştirdi el ahdar el ibrahimi tahran ziyaretinde suriye kurbanbayramı süresince ateşkes çağrısında bulunmuştu aa'\n",
            " 'kobi ler bankalardan yana dertli ostim sanayici işadamlarıderneği osiad başkanı adnankeskin kobi lerin bilançolarının yetersizliği nedeniyle kredi kullanamamalarının büyük sıkıntı yarattığını söyledi keskin yaptığı açıklamada sanayi üretiminin ekim ayında geçen yılın aynı ayına göre yüzde 5 7 düştüğünü ekonominin 3 üncü çeyrekte yüzde 1 6 büyüdüğünü hatırlatarak \\x93 böyle bir ortamda bankaların ekim sonu itibarıyla 19 4 milyar lira kar etmesini kabul edemiyorum \\x94 dedi durumun \\x93 mevcut ekonomi politikalarının üretim yerine finanstan yana tavır alması \\x94 anlamına geldiğini dile getiren keskin finans büyük karlar elde ettiğini buna karşın sanayi üretiminin daraldığını belirtti piyasalar üzerinde son aylarda moral bozukluğu belirsizlik ortamının hakim olduğunu anlatan keskin bunu önce çek yasasına bağladıklarını ancak gerçek nedenin sanayi üretimindeki daralma olduğunu kaydetti kriz nedeniyle avrobölgesi ihracatın gerilemesinin ardından türkiye nin komşularında yaşanan sorunlar nedeniyle ülkelere gerçekleştirilen ihracatın daralmasının piyasaları sıkıntıya soktuğunu ifade eden keskin irak merkezi hükümeti yle yaşanan sorunlar dolayısıyla türk müteahhitlerin işlerinin ülke tarafından onaylanmadığına dikkati çekti \\x93 kobi ler kredi konusunda sıkıntılı \\x94 kobi lerin kredi kullanırken yaşadıkları sıkıntılara değinen keskin bankaların kobi lere kredi verirken firmaların bilançolarındaki büyümeyi dikkate aldığını kaydetti keskin \\x93 kobi lerin istediği kredi cirolarının belli bir rakamına karşılık geliyor kobi cirosuna göre fazla kredi isteyecek durumda banka olarak kesinlikle kobi ye kredi verilmemesi yönünde değerlendirmede bulunursunuz anda kobi lerin büyük sıkıntısı bilançolarının yetersizliğinden dolayı kullanamadıkları krediler \\x94 değerlendirmesinde bulundu bankaların kar etmelerine kesinlikle karşı olmadıklarının altını çizen keskin \\x93 buna karşın bankaların sadece kar etmek yerine üretim ekonomisini destekleyecek politikalara sahip olmaları gerektiğini \\x94 dile getirdi bankaların masraf adı altında aldıkları faiz dışı gelirler kalemine kaydedilen tutarların yüksekliğine dikkati çeken keskin ipotek çözme parası ücretlerin kanunda yeri olmamasına rağmen alındığını öne sürdü \\x93 reel sektöre para aktarılamıyor \\x94 reel sektöre yönelik güvenin azalmasının merkezbankası nın faiz oranlarını düşürmesinden önemli bir konu olduğunu belirten keskin \\x93 reel sektöre güvenin azalması demek bankaların reel sektöre para aktarmasında dikkatli davranmaları anlamına geliyor \\x94 konuştu bankaların kazandığı karları reel ekonomiye yönlendiremediğini dile getiren keskin sanayi üretimindeki azalışın alanda faaliyet gösteren firmalara kredi aktarımını zorlaştırdığını söyledi \\x93 kredi kartı borcu olan iş yapamaz \\x94 kredi kartı uygulamalarına değinen keskin bankaların çalışan kesime ücretlerine bakmaksızın kredi kartı dağıttığını söyledi bütün işçilerin kredi kartı borcu olduğunu anlatan keskin \\x93 kredi kartı borcu olan bir işçinin iş yapması işten verim alınması yaptığı işten mutlu olması mümkün değil adamın aklı kredi kartında iş yerinde değil üretime ciddi zarar veriyor \\x94 dedi']\n",
            "[[9451, 26694, 50463, 21712, 239, 165, 68, 434, 212, 207, 2, 63, 6319, 2, 3128, 4565, 15842, 26695, 3564, 40, 272, 345, 15843, 1155, 2883, 2, 1037, 50464, 2, 53, 7, 50465, 50466, 6, 211, 21713, 26696, 50467, 266, 240, 50468, 50469, 50470, 1, 4566, 554, 1038, 6319, 2, 12440, 3681, 4383, 50471, 50472, 2, 10, 7, 50473, 8105, 6, 50474, 5192, 2286, 264, 19, 50475, 50476, 54, 34495, 446, 4056, 8, 7, 50477, 1255, 50478, 50479, 6, 1538, 7127, 20, 5689, 6709, 4051, 2, 9, 7, 5690, 6, 7573, 4051, 4959, 34495, 77, 12441, 7, 18405, 50480, 1255, 8745, 15844, 6, 21714, 4051, 77, 1, 34496, 93, 9443, 2, 9, 26697, 3, 2, 19, 50481, 2203, 26, 5, 5423, 21715, 4553, 18406, 5438, 4057, 2717, 9443, 2, 9, 7, 5690, 6, 211, 10242, 4567, 11240, 18407, 4051, 4959, 50482, 77, 2203, 7, 533, 50483, 2, 443, 50484, 6, 7, 52, 2, 1, 906, 6, 12442, 2, 9, 7, 50485, 6, 531, 1561, 26694, 2, 227, 40, 272, 4058, 50, 354, 50486, 34497, 387, 1451, 34497, 387], [34498, 8746, 1120, 93, 8746, 2162, 90, 1539, 5691, 3, 8746, 5692, 94, 7128, 2115, 8106, 4390, 10243, 132, 70, 3236, 26698, 1952, 747, 34499, 77, 18408, 460, 1305, 21716, 18409, 27, 34500, 1741, 5691, 21717, 167, 88, 323, 10244, 14, 21718, 9452, 11, 27, 5691, 2026, 468, 2328, 3237, 2811, 176, 21719, 21720, 1256, 3129, 2479, 3787, 4194, 3565, 21719, 7128, 253, 26699, 34501, 7128, 12443, 689, 1952, 747, 402, 1539, 5691, 7, 13989, 12443, 11241, 295, 460, 1305, 21716, 15845, 4960, 183, 26700, 48, 21721, 34502, 4568, 34503, 13, 286, 991, 216, 167, 5693, 3460, 13, 355, 2116, 26701, 3682, 29, 15846, 12444, 18, 34504, 12445, 1336, 129, 39, 895, 6, 51, 5691, 1742, 504, 323, 10244, 950, 18410, 41, 241, 640, 74, 42, 35, 21722, 477, 2329, 547, 560, 518, 32, 471, 921, 471, 505, 13990, 6710, 5439, 10245, 5985, 18411, 34505, 26702, 34506, 34, 8107, 3, 1603, 13991, 345, 8, 11242, 28, 360, 26703, 34507, 34508, 2718, 42, 421, 12444, 13992, 12444, 16, 28, 3683, 39, 21723, 26704, 12446, 5986, 42, 1650, 6, 4059, 215, 287, 13993, 1, 329, 65, 8747, 4390, 5193, 34509, 91, 5691, 8746, 460, 15847, 359, 83, 13994, 34510, 6711, 896, 7574, 34511, 21724, 2287, 100, 588, 332, 8746, 2162, 90, 1539, 5691, 7, 3566, 460, 1856, 633, 1156, 26705, 26706, 3461, 26707, 10246, 21725, 31, 1624, 131, 2248, 460, 2645, 15848, 560, 430, 34512, 5694, 224, 95, 6712, 7129, 575, 139, 26708, 9453, 6712, 200, 6320, 271, 12447, 34513, 21726, 12448, 4390, 5193, 34514, 12449, 161, 4195, 26709, 34515, 13995, 795, 1062, 3462, 4391, 2329, 1992, 6, 2719, 12450, 223, 13996, 2204, 207, 15849, 94, 17, 92, 619, 3, 8746, 5692, 94, 2719, 12450, 223, 13996, 2204, 260, 35, 12445, 380, 34516, 841, 8, 1683, 74, 9454, 1256, 581, 34517, 34518, 2163, 3129, 581, 11243, 56, 52, 2479, 581, 15850, 18412, 420, 3787, 581, 3788, 34519, 2163, 633, 34520, 26710, 3789, 1272, 3565, 581, 34521, 2027, 4569, 3565, 581, 13997, 34522, 420, 2646, 468, 581, 3025, 730, 2163, 2328, 581, 1208, 976, 2163, 3237, 581, 749, 18413, 2163, 2811, 581, 26711, 34523, 2163, 678, 581, 6321, 3451, 18414, 207, 176, 581, 5194, 34524, 2163, 176, 581, 2249, 939, 2163], [1953, 50487, 71, 15851, 126, 71, 4, 1021, 3790, 24, 50488, 3916, 3683, 5440, 1953, 4, 43, 50489, 7575, 6322, 15852, 1, 497, 174, 464, 1953, 50490, 13, 286, 71, 15851, 126, 464, 1953, 50, 1080, 13998, 4060, 21727, 95, 8748, 3026, 71, 13, 286, 339, 403, 1021, 3790, 24, 50491, 464, 3791, 6713, 175, 35, 5195, 18415, 90, 4054, 26712, 394, 6322, 752, 50492, 50493, 26713, 7575, 752, 15853, 50494, 26713, 6322, 752, 34525, 50495, 486, 81, 512, 464, 14, 50496, 461, 957, 50497, 2812, 1005, 26714, 50498, 1427, 825, 182, 464, 3336, 34526, 48, 1953, 49, 21728, 3917, 817, 18416, 1337, 18417, 8749, 34527, 2288, 50499, 6714, 969, 1, 5987, 1684, 5196, 2330, 4961, 255, 1644, 26712, 234, 464, 14, 1110, 84, 10247, 18418, 150, 1080, 34528, 958, 1, 11244, 18415, 8108, 472, 1993, 45, 89, 21729, 615, 1062, 34529, 3792, 3336, 66, 22, 34530, 600, 13999, 18, 619, 7130, 26715, 1857, 24, 3463, 183, 2429, 232, 1857, 4772, 26716, 98, 28, 1257, 1743, 50500, 34531, 50501, 12451, 18404, 2331, 29, 464, 1021, 3790, 103, 21, 1, 15854, 26717, 464, 14, 1427, 75, 160, 1778, 1403, 34532, 1234, 184, 1021, 3790, 24, 12452, 309, 71, 4, 1021, 3790, 24, 4392, 377, 184, 21, 1, 281, 5988, 21730, 84, 1090, 2884, 464, 1953, 4, 50502, 377, 21, 28, 2117, 1080, 21731, 3460, 357, 5987, 1625, 50503, 555, 18419, 4570, 2288, 11245, 8, 25, 33, 977, 15, 336, 153, 21732, 21733, 492, 71, 3793, 1021, 3790, 377, 2332, 4196, 1336, 202, 11246, 21734, 781, 2288, 2250, 15, 110, 13, 37, 50504, 7131, 1063], [7576, 63, 3794, 4, 1362, 15823, 11247, 8109, 7576, 862, 6715, 99, 72, 1135, 279, 14000, 279, 3794, 4, 1362, 9455, 4197, 7576, 3130, 4773, 50505, 194, 1258, 61, 122, 3794, 4, 1362, 15855, 99, 1306, 14001, 50506, 50507, 45, 1888, 6323, 607, 50508, 175, 18420, 34533, 4061, 279, 14000, 279, 3794, 12453, 5695, 99, 3027, 2541, 1362, 3238, 4393, 194], [3918, 2647, 18421, 392, 50509, 50510, 14002, 11248, 50511, 90, 21735, 3918, 3028, 34534, 7132, 98, 363, 50512, 20, 1540, 8110, 27, 3131, 61, 122, 690, 4774, 306, 254, 75, 208, 67, 2376, 29, 15, 25, 79, 2480, 5989, 17, 863, 4198, 15, 13, 55, 11249, 2205, 7, 135, 1, 1562, 2648, 306, 890, 2117, 393, 34, 82, 159, 1466, 3337, 175, 34535, 6, 12, 1157, 7, 657, 1858, 9456, 731, 200, 50513, 392, 4954, 1447, 6, 1711, 673, 115, 283, 3131, 2542, 20, 50514, 215, 343, 255, 1644, 690, 4774, 50515, 102, 6324, 101, 26, 4062, 4199, 2589, 15856, 11250, 2071, 11, 285, 3131, 107, 48, 5696, 50516, 50517, 45, 541, 15857, 690, 9457, 10248, 11, 114, 1118, 98, 18422, 6716, 50518, 59, 3, 4, 21736, 439, 1534, 98, 2373, 780, 6716, 34536, 6717, 7133, 21737, 41, 44, 3131, 534, 303, 1172, 3029, 439, 1534, 492, 56, 14003, 26718, 184, 38, 50519, 328, 415, 7, 3918, 2647, 363, 103, 4775, 6, 3918, 3028, 363, 4200, 3919, 10249, 930, 3131, 2648, 3918, 4394, 363, 2813, 5697, 50520, 11251, 1779, 978, 114, 3131, 7, 3918, 3028, 1678, 363, 50521, 524, 1, 21738, 1117, 370, 3918, 50522, 29, 60, 363, 15858, 608, 1604, 5, 1110, 3918, 49, 363, 18423, 979, 6325, 50523, 313, 3918, 3028, 20, 5698, 34534, 26719, 364, 50524, 14004, 6, 2333, 182, 2648, 1466, 18424, 1110, 84, 50525, 753, 1510, 3131, 7, 255, 1644, 2648, 64, 1466, 287, 200, 731, 7577, 12454, 26720, 96, 2590, 151, 6, 115, 288, 2648, 21739, 452, 243, 2814, 1273, 505, 8750, 50526, 9458, 21740, 21741, 328, 261, 3131, 50527, 11252, 4571, 34537, 10250, 1173, 14005, 205, 2649, 473, 1209, 7, 4196, 3132, 318, 50528, 6, 4196, 3132, 150, 8751, 12455, 1448, 14, 1273, 8752, 50529, 30, 1, 518, 11, 91, 3131, 7, 4196, 3132, 8751, 4962, 1487, 2648, 4196, 3132, 318, 50530, 1488, 21742, 1711, 370, 6, 51, 2648, 3795, 34538, 4196, 4201, 50531, 115, 283, 3131, 690, 9457, 34539, 649, 1452, 768, 14006, 363, 34540, 18425, 27, 7, 363, 1780, 5197, 8, 149, 14007, 6, 363, 1780, 12456, 930, 3131, 2648, 462, 18426, 26721, 21743, 363, 1780, 34541, 27, 145, 4963, 363, 1780, 5197, 11, 285, 3131, 7, 363, 1780, 5197, 8, 1, 5699, 149, 1646, 3920, 9459, 1027, 61, 3920, 754, 123, 300, 58, 5425, 5700, 363, 50532, 149, 1145, 58, 8111, 202, 454, 721, 6, 12]]\n"
          ]
        }
      ]
    },
    {
      "cell_type": "code",
      "source": [
        "# dizileri aynı uzunluğa sahip olacak şekilde doldurun\n",
        "from tensorflow.keras.preprocessing.sequence import pad_sequences\n",
        "\n",
        "max_length=20\n",
        " \n",
        "train_padded= pad_sequences(train_sequences , maxlen=max_length , padding=\"post\",truncating=\"post\")\n",
        "val_padded= pad_sequences(val_sequences, maxlen=max_length, padding=\"post\" , truncating=\"post\")\n",
        "train_padded.shape , val_padded.shape"
      ],
      "metadata": {
        "colab": {
          "base_uri": "https://localhost:8080/"
        },
        "id": "HmwKVo7Rul7V",
        "outputId": "dc8a9e28-f689-4a4b-f866-d30490548687"
      },
      "execution_count": 205,
      "outputs": [
        {
          "output_type": "execute_result",
          "data": {
            "text/plain": [
              "((3185, 20), (1715, 20))"
            ]
          },
          "metadata": {},
          "execution_count": 205
        }
      ]
    },
    {
      "cell_type": "code",
      "source": [
        "train_padded[10]"
      ],
      "metadata": {
        "colab": {
          "base_uri": "https://localhost:8080/"
        },
        "id": "CkswNrc6uoAd",
        "outputId": "91462856-a641-4118-9ee3-139b0b2d34bc"
      },
      "execution_count": 206,
      "outputs": [
        {
          "output_type": "execute_result",
          "data": {
            "text/plain": [
              "array([ 9451, 26694, 50463, 21712,   239,   165,    68,   434,   212,\n",
              "         207,     2,    63,  6319,     2,  3128,  4565, 15842, 26695,\n",
              "        3564,    40], dtype=int32)"
            ]
          },
          "metadata": {},
          "execution_count": 206
        }
      ]
    },
    {
      "cell_type": "code",
      "source": [
        "val_padded[10]"
      ],
      "metadata": {
        "colab": {
          "base_uri": "https://localhost:8080/"
        },
        "id": "IxW07BfwzorL",
        "outputId": "27e1fe59-2dde-4d37-b2dc-900b6e85e008"
      },
      "execution_count": 207,
      "outputs": [
        {
          "output_type": "execute_result",
          "data": {
            "text/plain": [
              "array([62596,     2,    69,  1838, 37840,   270,   116,     2,  1493,\n",
              "        7380,    30, 12225, 41812,     2,    69, 14092,     2,  8301,\n",
              "          61,     1], dtype=int32)"
            ]
          },
          "metadata": {},
          "execution_count": 207
        }
      ]
    },
    {
      "cell_type": "code",
      "source": [
        "train_labels[1481]"
      ],
      "metadata": {
        "colab": {
          "base_uri": "https://localhost:8080/",
          "height": 36
        },
        "id": "G7ACPVeNzt0L",
        "outputId": "ed8e6dec-1c01-420c-bae4-8c4c52f7657f"
      },
      "execution_count": 208,
      "outputs": [
        {
          "output_type": "execute_result",
          "data": {
            "text/plain": [
              "'kultur '"
            ],
            "application/vnd.google.colaboratory.intrinsic+json": {
              "type": "string"
            }
          },
          "metadata": {},
          "execution_count": 208
        }
      ]
    },
    {
      "cell_type": "code",
      "source": [
        "val_labels[1481]"
      ],
      "metadata": {
        "colab": {
          "base_uri": "https://localhost:8080/",
          "height": 36
        },
        "id": "1gyaUJt5z2Ht",
        "outputId": "0cc77fd4-8b5f-442f-b4c6-055c4c78b71e"
      },
      "execution_count": 209,
      "outputs": [
        {
          "output_type": "execute_result",
          "data": {
            "text/plain": [
              "'dunya '"
            ],
            "application/vnd.google.colaboratory.intrinsic+json": {
              "type": "string"
            }
          },
          "metadata": {},
          "execution_count": 209
        }
      ]
    },
    {
      "cell_type": "code",
      "source": [
        "print(train_sentences[10])\n",
        "print(train_sequences[10])\n",
        "print(train_padded[10])"
      ],
      "metadata": {
        "colab": {
          "base_uri": "https://localhost:8080/"
        },
        "id": "wWR-E7woup5C",
        "outputId": "152117e9-eef8-4e65-f4b9-620a132a9f4c"
      },
      "execution_count": 210,
      "outputs": [
        {
          "output_type": "stream",
          "name": "stdout",
          "text": [
            "güvenç dağüstün urban lounge 18 11 2012 22 00 ankara  dan viyana  uzanan akademik kariyerini yurtiçinde yurtdışında yer aldığı başarılı projelerle sürdürdü avusturya  c orff  un  carmina burana  adlı eserinde bariton sololarının yanı sıra kontrtenor solosunu seslendirerek bir ilke imza attı viyana  seslendirdiği yunan besteci perikles liakakis  in  çizmeli kedi  operasındaki başrol eserin dünyada ilk seslendirilişinin solistlerinden oldu sertaberener ortak projeleri olan  turco  latino connection  caz konserleri büyük beğeni topladı fazılsay  ın  nazım  eserini fazılsay gencoerkal sertaberener birlikte seslendirdi  rumeli hisarı  yıldızlı geceler  konserlerine fazılsay birlikte bir resital verdi say  ın şarkılarının türkiye  ilk seslendirilişini gerçekleştirdi son olarak şef ibrahimyazıcı yönetimindeki bilkent senfoni orkestrası eşliğinde say  ın  nazım  adlı eserinin cd dvd kayıtlarını fazılsay gencoerkal zuhalolcay birlikte gerçekleştirdi  bana mastika  yı çalsana   istanbul  bir dava  çağanirmak  ın  ulak  filmi güven dağüstün  ün yer aldığı projeler arasında bulunuyor info urbanbuglounge com www urbanbuglounge com\n",
            "[9451, 26694, 50463, 21712, 239, 165, 68, 434, 212, 207, 2, 63, 6319, 2, 3128, 4565, 15842, 26695, 3564, 40, 272, 345, 15843, 1155, 2883, 2, 1037, 50464, 2, 53, 7, 50465, 50466, 6, 211, 21713, 26696, 50467, 266, 240, 50468, 50469, 50470, 1, 4566, 554, 1038, 6319, 2, 12440, 3681, 4383, 50471, 50472, 2, 10, 7, 50473, 8105, 6, 50474, 5192, 2286, 264, 19, 50475, 50476, 54, 34495, 446, 4056, 8, 7, 50477, 1255, 50478, 50479, 6, 1538, 7127, 20, 5689, 6709, 4051, 2, 9, 7, 5690, 6, 7573, 4051, 4959, 34495, 77, 12441, 7, 18405, 50480, 1255, 8745, 15844, 6, 21714, 4051, 77, 1, 34496, 93, 9443, 2, 9, 26697, 3, 2, 19, 50481, 2203, 26, 5, 5423, 21715, 4553, 18406, 5438, 4057, 2717, 9443, 2, 9, 7, 5690, 6, 211, 10242, 4567, 11240, 18407, 4051, 4959, 50482, 77, 2203, 7, 533, 50483, 2, 443, 50484, 6, 7, 52, 2, 1, 906, 6, 12442, 2, 9, 7, 50485, 6, 531, 1561, 26694, 2, 227, 40, 272, 4058, 50, 354, 50486, 34497, 387, 1451, 34497, 387]\n",
            "[ 9451 26694 50463 21712   239   165    68   434   212   207     2    63\n",
            "  6319     2  3128  4565 15842 26695  3564    40]\n"
          ]
        }
      ]
    },
    {
      "cell_type": "code",
      "source": [
        "# Burada indexleri tersine çevirerek kontrol ediyoruz\n",
        "reverse_word_index= dict([(idx , word) for  (word,idx) in word_index.items()])"
      ],
      "metadata": {
        "id": "CG_4RI_Nuugd"
      },
      "execution_count": 211,
      "outputs": []
    },
    {
      "cell_type": "code",
      "source": [
        "def decode(sequence):\n",
        "  return \" \".join([reverse_word_index.get(idx , \"?\") for idx in sequence])"
      ],
      "metadata": {
        "id": "fK2_Citpu4DD"
      },
      "execution_count": 212,
      "outputs": []
    },
    {
      "cell_type": "code",
      "source": [
        "decoded_text = decode(train_sequences[10])\n",
        "print(train_sequences[10])\n",
        "print(decoded_text)"
      ],
      "metadata": {
        "colab": {
          "base_uri": "https://localhost:8080/"
        },
        "id": "TGkJ3kWyuxSV",
        "outputId": "b2a28753-c450-4bc1-c600-24b856bfa5f4"
      },
      "execution_count": 213,
      "outputs": [
        {
          "output_type": "stream",
          "name": "stdout",
          "text": [
            "[9451, 26694, 50463, 21712, 239, 165, 68, 434, 212, 207, 2, 63, 6319, 2, 3128, 4565, 15842, 26695, 3564, 40, 272, 345, 15843, 1155, 2883, 2, 1037, 50464, 2, 53, 7, 50465, 50466, 6, 211, 21713, 26696, 50467, 266, 240, 50468, 50469, 50470, 1, 4566, 554, 1038, 6319, 2, 12440, 3681, 4383, 50471, 50472, 2, 10, 7, 50473, 8105, 6, 50474, 5192, 2286, 264, 19, 50475, 50476, 54, 34495, 446, 4056, 8, 7, 50477, 1255, 50478, 50479, 6, 1538, 7127, 20, 5689, 6709, 4051, 2, 9, 7, 5690, 6, 7573, 4051, 4959, 34495, 77, 12441, 7, 18405, 50480, 1255, 8745, 15844, 6, 21714, 4051, 77, 1, 34496, 93, 9443, 2, 9, 26697, 3, 2, 19, 50481, 2203, 26, 5, 5423, 21715, 4553, 18406, 5438, 4057, 2717, 9443, 2, 9, 7, 5690, 6, 211, 10242, 4567, 11240, 18407, 4051, 4959, 50482, 77, 2203, 7, 533, 50483, 2, 443, 50484, 6, 7, 52, 2, 1, 906, 6, 12442, 2, 9, 7, 50485, 6, 531, 1561, 26694, 2, 227, 40, 272, 4058, 50, 354, 50486, 34497, 387, 1451, 34497, 387]\n",
            "güvenç dağüstün urban lounge 18 11 2012 22 00 ankara  dan viyana  uzanan akademik kariyerini yurtiçinde yurtdışında yer aldığı başarılı projelerle sürdürdü avusturya  c orff  un  carmina burana  adlı eserinde bariton sololarının yanı sıra kontrtenor solosunu seslendirerek bir ilke imza attı viyana  seslendirdiği yunan besteci perikles liakakis  in  çizmeli kedi  operasındaki başrol eserin dünyada ilk seslendirilişinin solistlerinden oldu sertaberener ortak projeleri olan  turco  latino connection  caz konserleri büyük beğeni topladı fazılsay  ın  nazım  eserini fazılsay gencoerkal sertaberener birlikte seslendirdi  rumeli hisarı  yıldızlı geceler  konserlerine fazılsay birlikte bir resital verdi say  ın şarkılarının türkiye  ilk seslendirilişini gerçekleştirdi son olarak şef ibrahimyazıcı yönetimindeki bilkent senfoni orkestrası eşliğinde say  ın  nazım  adlı eserinin cd dvd kayıtlarını fazılsay gencoerkal zuhalolcay birlikte gerçekleştirdi  bana mastika  yı çalsana   istanbul  bir dava  çağanirmak  ın  ulak  filmi güven dağüstün  ün yer aldığı projeler arasında bulunuyor info urbanbuglounge com www urbanbuglounge com\n"
          ]
        }
      ]
    },
    {
      "cell_type": "code",
      "source": [
        "#LSTM modeli yapıyoruz.\n",
        "from tensorflow.keras.models import Sequential\n",
        "from tensorflow.keras.layers import Embedding, LSTM, Dense\n",
        "\n",
        "# Model oluşturma\n",
        "model = Sequential()\n",
        "model.add(Embedding(input_dim=num_unique_words, output_dim=100, input_length=20))\n",
        "model.add(LSTM(units=128, dropout=0.2, recurrent_dropout=0.2, return_sequences=True))\n",
        "model.add(LSTM(units=128, dropout=0.2, recurrent_dropout=0.2))\n",
        "model.add(Dense(units=7, activation='softmax'))\n",
        "\n",
        "model.summary()"
      ],
      "metadata": {
        "colab": {
          "base_uri": "https://localhost:8080/"
        },
        "id": "-QKlwUVOu68Z",
        "outputId": "5ebf87a0-4202-4660-bda3-5ec6ef58e11e"
      },
      "execution_count": 214,
      "outputs": [
        {
          "output_type": "stream",
          "name": "stdout",
          "text": [
            "Model: \"sequential_18\"\n",
            "_________________________________________________________________\n",
            " Layer (type)                Output Shape              Param #   \n",
            "=================================================================\n",
            " embedding_11 (Embedding)    (None, 20, 100)           11089800  \n",
            "                                                                 \n",
            " lstm_12 (LSTM)              (None, 20, 128)           117248    \n",
            "                                                                 \n",
            " lstm_13 (LSTM)              (None, 128)               131584    \n",
            "                                                                 \n",
            " dense_16 (Dense)            (None, 7)                 903       \n",
            "                                                                 \n",
            "=================================================================\n",
            "Total params: 11,339,535\n",
            "Trainable params: 11,339,535\n",
            "Non-trainable params: 0\n",
            "_________________________________________________________________\n"
          ]
        }
      ]
    },
    {
      "cell_type": "code",
      "source": [
        "model.compile(optimizer='adam', loss='categorical_crossentropy', metrics=['accuracy'])"
      ],
      "metadata": {
        "id": "UwiEM4v85eyH"
      },
      "execution_count": 215,
      "outputs": []
    },
    {
      "cell_type": "code",
      "source": [
        "from sklearn.preprocessing import OneHotEncoder\n",
        "\n",
        "# Tüm kategorileri birleştirerek unique kategorileri belirleyin\n",
        "all_labels = np.concatenate((train_labels, val_labels), axis=0)\n",
        "unique_labels = np.unique(all_labels)\n",
        "\n",
        "# One-hot encoder oluşturun ve unique kategorileri ileti\n",
        "encoder = OneHotEncoder(categories=[unique_labels])\n",
        "train_labels_encoded = encoder.fit_transform(train_labels.reshape(-1, 1)).toarray()\n",
        "val_labels_encoded = encoder.transform(val_labels.reshape(-1, 1)).toarray()\n"
      ],
      "metadata": {
        "id": "BcczHNuEGZxU"
      },
      "execution_count": 216,
      "outputs": []
    },
    {
      "cell_type": "code",
      "source": [
        "len(train_padded) , len(val_padded)"
      ],
      "metadata": {
        "colab": {
          "base_uri": "https://localhost:8080/"
        },
        "id": "XAy2qXAgLQAA",
        "outputId": "053bdf54-3963-4af7-eaef-7a6877eb1f5f"
      },
      "execution_count": 217,
      "outputs": [
        {
          "output_type": "execute_result",
          "data": {
            "text/plain": [
              "(3185, 1715)"
            ]
          },
          "metadata": {},
          "execution_count": 217
        }
      ]
    },
    {
      "cell_type": "code",
      "source": [
        "history = model.fit(train_padded, train_labels_encoded, validation_data=(val_padded, val_labels_encoded), epochs=10)\n"
      ],
      "metadata": {
        "colab": {
          "base_uri": "https://localhost:8080/"
        },
        "id": "HaC2wOlk5heh",
        "outputId": "3241a15c-9c27-4d2b-bf14-4acf0dfa5e2b"
      },
      "execution_count": null,
      "outputs": [
        {
          "output_type": "stream",
          "name": "stdout",
          "text": [
            "Epoch 1/10\n",
            "100/100 [==============================] - 62s 424ms/step - loss: 1.5719 - accuracy: 0.3780 - val_loss: 0.9779 - val_accuracy: 0.6799\n",
            "Epoch 2/10\n",
            "100/100 [==============================] - 40s 397ms/step - loss: 0.4657 - accuracy: 0.8465 - val_loss: 0.7025 - val_accuracy: 0.7796\n",
            "Epoch 3/10\n",
            "100/100 [==============================] - 40s 398ms/step - loss: 0.1259 - accuracy: 0.9642 - val_loss: 0.7012 - val_accuracy: 0.7971\n",
            "Epoch 4/10\n",
            "100/100 [==============================] - 41s 410ms/step - loss: 0.0501 - accuracy: 0.9881 - val_loss: 0.8060 - val_accuracy: 0.7773\n",
            "Epoch 5/10\n",
            "100/100 [==============================] - 39s 392ms/step - loss: 0.0387 - accuracy: 0.9909 - val_loss: 0.8754 - val_accuracy: 0.7819\n",
            "Epoch 6/10\n",
            "100/100 [==============================] - 40s 398ms/step - loss: 0.0294 - accuracy: 0.9937 - val_loss: 0.8913 - val_accuracy: 0.7866\n",
            "Epoch 7/10\n",
            "100/100 [==============================] - 39s 394ms/step - loss: 0.0258 - accuracy: 0.9943 - val_loss: 1.0621 - val_accuracy: 0.7411\n",
            "Epoch 8/10\n",
            "100/100 [==============================] - 40s 396ms/step - loss: 0.0274 - accuracy: 0.9925 - val_loss: 0.8515 - val_accuracy: 0.7778\n",
            "Epoch 9/10\n",
            "  8/100 [=>............................] - ETA: 32s - loss: 0.0065 - accuracy: 1.0000"
          ]
        }
      ]
    }
  ]
}